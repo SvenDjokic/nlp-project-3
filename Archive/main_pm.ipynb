{
 "cells": [
  {
   "cell_type": "code",
   "execution_count": 21,
   "metadata": {},
   "outputs": [
    {
     "name": "stderr",
     "output_type": "stream",
     "text": [
      "[nltk_data] Downloading package stopwords to\n",
      "[nltk_data]     /Users/paulmuller/nltk_data...\n",
      "[nltk_data]   Package stopwords is already up-to-date!\n",
      "[nltk_data] Downloading package punkt to\n",
      "[nltk_data]     /Users/paulmuller/nltk_data...\n",
      "[nltk_data]   Package punkt is already up-to-date!\n",
      "[nltk_data] Downloading package averaged_perceptron_tagger to\n",
      "[nltk_data]     /Users/paulmuller/nltk_data...\n",
      "[nltk_data]   Package averaged_perceptron_tagger is already up-to-\n",
      "[nltk_data]       date!\n",
      "[nltk_data] Downloading package wordnet to\n",
      "[nltk_data]     /Users/paulmuller/nltk_data...\n",
      "[nltk_data]   Package wordnet is already up-to-date!\n"
     ]
    }
   ],
   "source": [
    "import pandas as pd\n",
    "import numpy as np\n",
    "import re\n",
    "\n",
    "\n",
    "from sklearn.model_selection import train_test_split\n",
    "from sklearn.feature_extraction.text import TfidfVectorizer\n",
    "from sklearn.linear_model import LogisticRegression\n",
    "from sklearn.tree import DecisionTreeClassifier\n",
    "from sklearn.metrics import classification_report, accuracy_score\n",
    "\n",
    "# NLTK\n",
    "import nltk\n",
    "nltk.download('stopwords')\n",
    "nltk.download('punkt')\n",
    "nltk.download('averaged_perceptron_tagger')\n",
    "nltk.download('wordnet')\n",
    "\n",
    "from nltk.tokenize import word_tokenize\n",
    "from nltk.corpus import stopwords, wordnet\n",
    "from nltk.stem import WordNetLemmatizer"
   ]
  },
  {
   "cell_type": "code",
   "execution_count": 22,
   "metadata": {},
   "outputs": [
    {
     "name": "stdout",
     "output_type": "stream",
     "text": [
      "['/Users/paulmuller/nltk_data', '/opt/anaconda3/nltk_data', '/opt/anaconda3/share/nltk_data', '/opt/anaconda3/lib/nltk_data', '/usr/share/nltk_data', '/usr/local/share/nltk_data', '/usr/lib/nltk_data', '/usr/local/lib/nltk_data']\n"
     ]
    }
   ],
   "source": [
    "print(nltk.data.path)"
   ]
  },
  {
   "cell_type": "code",
   "execution_count": 23,
   "metadata": {},
   "outputs": [],
   "source": [
    "# Load the dataset (update file path accordingly)\n",
    "data_file = \"training_data_lowercase.csv\"\n",
    "data = pd.read_csv(data_file, sep=\"\\t\", header=None)  # Tab-separated"
   ]
  },
  {
   "cell_type": "code",
   "execution_count": 24,
   "metadata": {},
   "outputs": [
    {
     "data": {
      "text/html": [
       "<div>\n",
       "<style scoped>\n",
       "    .dataframe tbody tr th:only-of-type {\n",
       "        vertical-align: middle;\n",
       "    }\n",
       "\n",
       "    .dataframe tbody tr th {\n",
       "        vertical-align: top;\n",
       "    }\n",
       "\n",
       "    .dataframe thead th {\n",
       "        text-align: right;\n",
       "    }\n",
       "</style>\n",
       "<table border=\"1\" class=\"dataframe\">\n",
       "  <thead>\n",
       "    <tr style=\"text-align: right;\">\n",
       "      <th></th>\n",
       "      <th>label</th>\n",
       "      <th>text</th>\n",
       "    </tr>\n",
       "  </thead>\n",
       "  <tbody>\n",
       "    <tr>\n",
       "      <th>0</th>\n",
       "      <td>0</td>\n",
       "      <td>donald trump sends out embarrassing new year‚s...</td>\n",
       "    </tr>\n",
       "    <tr>\n",
       "      <th>1</th>\n",
       "      <td>0</td>\n",
       "      <td>drunk bragging trump staffer started russian c...</td>\n",
       "    </tr>\n",
       "    <tr>\n",
       "      <th>2</th>\n",
       "      <td>0</td>\n",
       "      <td>sheriff david clarke becomes an internet joke ...</td>\n",
       "    </tr>\n",
       "    <tr>\n",
       "      <th>3</th>\n",
       "      <td>0</td>\n",
       "      <td>trump is so obsessed he even has obama‚s name ...</td>\n",
       "    </tr>\n",
       "    <tr>\n",
       "      <th>4</th>\n",
       "      <td>0</td>\n",
       "      <td>pope francis just called out donald trump duri...</td>\n",
       "    </tr>\n",
       "  </tbody>\n",
       "</table>\n",
       "</div>"
      ],
      "text/plain": [
       "   label                                               text\n",
       "0      0  donald trump sends out embarrassing new year‚s...\n",
       "1      0  drunk bragging trump staffer started russian c...\n",
       "2      0  sheriff david clarke becomes an internet joke ...\n",
       "3      0  trump is so obsessed he even has obama‚s name ...\n",
       "4      0  pope francis just called out donald trump duri..."
      ]
     },
     "execution_count": 24,
     "metadata": {},
     "output_type": "execute_result"
    }
   ],
   "source": [
    "data.columns = ['label', 'text'] \n",
    "\n",
    "data.head(5)"
   ]
  },
  {
   "cell_type": "code",
   "execution_count": 25,
   "metadata": {},
   "outputs": [],
   "source": [
    "data['text'] = data['text'].str.replace(r'[^a-zA-Z0-9\\s]', '', regex=True)"
   ]
  },
  {
   "cell_type": "code",
   "execution_count": 26,
   "metadata": {},
   "outputs": [],
   "source": [
    "stop_words = set(stopwords.words('english'))"
   ]
  },
  {
   "cell_type": "code",
   "execution_count": 27,
   "metadata": {},
   "outputs": [],
   "source": [
    "# Tokenize and remove stopwords\n",
    "data['filtered_text'] = data['text'].apply(lambda x: [word for word in word_tokenize(x.lower()) if word not in stop_words])"
   ]
  },
  {
   "cell_type": "code",
   "execution_count": 28,
   "metadata": {},
   "outputs": [
    {
     "name": "stdout",
     "output_type": "stream",
     "text": [
      "   label                                               text  \\\n",
      "0      0  donald trump sends out embarrassing new years ...   \n",
      "1      0  drunk bragging trump staffer started russian c...   \n",
      "2      0  sheriff david clarke becomes an internet joke ...   \n",
      "3      0  trump is so obsessed he even has obamas name c...   \n",
      "4      0  pope francis just called out donald trump duri...   \n",
      "\n",
      "                                       filtered_text  \\\n",
      "0  [donald, trump, sends, embarrassing, new, year...   \n",
      "1  [drunk, bragging, trump, staffer, started, rus...   \n",
      "2  [sheriff, david, clarke, becomes, internet, jo...   \n",
      "3  [trump, obsessed, even, obamas, name, coded, w...   \n",
      "4  [pope, francis, called, donald, trump, christm...   \n",
      "\n",
      "                                     lemmatized_text  \n",
      "0  [donald, trump, sends, embarrass, new, year, e...  \n",
      "1  [drunk, bragging, trump, staffer, start, russi...  \n",
      "2  [sheriff, david, clarke, becomes, internet, jo...  \n",
      "3  [trump, obsess, even, obamas, name, cod, websi...  \n",
      "4  [pope, francis, call, donald, trump, christmas...  \n"
     ]
    }
   ],
   "source": [
    "# Lemmatization of text to leverage the context as well\n",
    "\n",
    "# from nltk.stem import WordNetLemmatizer\n",
    "# from nltk.corpus import wordnet\n",
    "\n",
    "# Initialize the lemmatizer\n",
    "lemmatizer = WordNetLemmatizer()\n",
    "\n",
    "# Function to get part-of-speech (POS) tagging for more accurate lemmatization\n",
    "def get_wordnet_pos(word):\n",
    "    from nltk.corpus import wordnet\n",
    "    from nltk import pos_tag\n",
    "    tag = pos_tag([word])[0][1][0].upper()\n",
    "    tag_dict = {\n",
    "        'J': wordnet.ADJ,  # Adjective\n",
    "        'N': wordnet.NOUN,  # Noun\n",
    "        'V': wordnet.VERB,  # Verb\n",
    "        'R': wordnet.ADV   # Adverb\n",
    "    }\n",
    "    return tag_dict.get(tag, wordnet.NOUN)  # Default to noun\n",
    "\n",
    "# Apply lemmatization to the filtered_text column\n",
    "data['lemmatized_text'] = data['filtered_text'].apply(\n",
    "    lambda tokens: [lemmatizer.lemmatize(word, get_wordnet_pos(word)) for word in tokens]\n",
    ")\n",
    "\n",
    "# Display the first few rows to verify the result\n",
    "print(data.head())\n"
   ]
  },
  {
   "cell_type": "code",
   "execution_count": 29,
   "metadata": {},
   "outputs": [],
   "source": [
    "# Combine tokens into single text strings for each row in 'lemmatized_text'\n",
    "data['lemmatized_text'] = data['lemmatized_text'].apply(lambda tokens: ' '.join(tokens))"
   ]
  },
  {
   "cell_type": "code",
   "execution_count": 30,
   "metadata": {},
   "outputs": [
    {
     "name": "stdout",
     "output_type": "stream",
     "text": [
      "0        donald trump sends embarrass new year eve mess...\n",
      "1        drunk bragging trump staffer start russian col...\n",
      "2        sheriff david clarke becomes internet joke thr...\n",
      "3          trump obsess even obamas name cod website image\n",
      "4          pope francis call donald trump christmas speech\n",
      "                               ...                        \n",
      "34147              tear rain thai gather late king funeral\n",
      "34148    pyongyang university need nonus teacher travel...\n",
      "34149    philippine president duterte visit japan ahead...\n",
      "34150             japan abe may election many dont want pm\n",
      "34151      demoralize divide inside catalonia police force\n",
      "Name: lemmatized_text, Length: 34152, dtype: object\n"
     ]
    }
   ],
   "source": [
    "# Initialize TF-IDF Vectorizer\n",
    "tfidf_vectorizer = TfidfVectorizer(\n",
    "    max_features=10000,  # Adjust as needed\n",
    "    stop_words='english',  # Ignore common stopwords\n",
    "    ngram_range=(1, 2)  # Unigrams and bigrams\n",
    ")\n",
    "\n",
    "print(data['lemmatized_text'])"
   ]
  },
  {
   "cell_type": "code",
   "execution_count": 31,
   "metadata": {},
   "outputs": [
    {
     "name": "stdout",
     "output_type": "stream",
     "text": [
      "0        donald trump sends embarrass new year eve mess...\n",
      "1        drunk bragging trump staffer start russian col...\n",
      "2        sheriff david clarke becomes internet joke thr...\n",
      "3          trump obsess even obamas name cod website image\n",
      "4          pope francis call donald trump christmas speech\n",
      "                               ...                        \n",
      "34147              tear rain thai gather late king funeral\n",
      "34148    pyongyang university need nonus teacher travel...\n",
      "34149    philippine president duterte visit japan ahead...\n",
      "34150             japan abe may election many dont want pm\n",
      "34151      demoralize divide inside catalonia police force\n",
      "Name: lemmatized_text, Length: 34152, dtype: object\n"
     ]
    }
   ],
   "source": [
    "# Fit and transform the lemmatized text column\n",
    "tfidf_matrix = tfidf_vectorizer.fit_transform(data['lemmatized_text'])\n",
    "\n",
    "print(data['lemmatized_text'])"
   ]
  },
  {
   "cell_type": "code",
   "execution_count": 32,
   "metadata": {},
   "outputs": [],
   "source": [
    "# Convert the resulting sparse matrix to a DataFrame for analysis\n",
    "tfidf_df = pd.DataFrame(\n",
    "    tfidf_matrix.toarray(), \n",
    "    columns=tfidf_vectorizer.get_feature_names_out() )"
   ]
  },
  {
   "cell_type": "code",
   "execution_count": 33,
   "metadata": {},
   "outputs": [
    {
     "name": "stdout",
     "output_type": "stream",
     "text": [
      "     10  10 billion  10 day  10 million  10 year  100  100 day  100 million  \\\n",
      "0   0.0         0.0     0.0         0.0      0.0  0.0      0.0          0.0   \n",
      "1   0.0         0.0     0.0         0.0      0.0  0.0      0.0          0.0   \n",
      "2   0.0         0.0     0.0         0.0      0.0  0.0      0.0          0.0   \n",
      "3   0.0         0.0     0.0         0.0      0.0  0.0      0.0          0.0   \n",
      "4   0.0         0.0     0.0         0.0      0.0  0.0      0.0          0.0   \n",
      "5   0.0         0.0     0.0         0.0      0.0  0.0      0.0          0.0   \n",
      "6   0.0         0.0     0.0         0.0      0.0  0.0      0.0          0.0   \n",
      "7   0.0         0.0     0.0         0.0      0.0  0.0      0.0          0.0   \n",
      "8   0.0         0.0     0.0         0.0      0.0  0.0      0.0          0.0   \n",
      "9   0.0         0.0     0.0         0.0      0.0  0.0      0.0          0.0   \n",
      "10  0.0         0.0     0.0         0.0      0.0  0.0      0.0          0.0   \n",
      "11  0.0         0.0     0.0         0.0      0.0  0.0      0.0          0.0   \n",
      "12  0.0         0.0     0.0         0.0      0.0  0.0      0.0          0.0   \n",
      "13  0.0         0.0     0.0         0.0      0.0  0.0      0.0          0.0   \n",
      "14  0.0         0.0     0.0         0.0      0.0  0.0      0.0          0.0   \n",
      "15  0.0         0.0     0.0         0.0      0.0  0.0      0.0          0.0   \n",
      "16  0.0         0.0     0.0         0.0      0.0  0.0      0.0          0.0   \n",
      "17  0.0         0.0     0.0         0.0      0.0  0.0      0.0          0.0   \n",
      "18  0.0         0.0     0.0         0.0      0.0  0.0      0.0          0.0   \n",
      "19  0.0         0.0     0.0         0.0      0.0  0.0      0.0          0.0   \n",
      "20  0.0         0.0     0.0         0.0      0.0  0.0      0.0          0.0   \n",
      "21  0.0         0.0     0.0         0.0      0.0  0.0      0.0          0.0   \n",
      "22  0.0         0.0     0.0         0.0      0.0  0.0      0.0          0.0   \n",
      "23  0.0         0.0     0.0         0.0      0.0  0.0      0.0          0.0   \n",
      "24  0.0         0.0     0.0         0.0      0.0  0.0      0.0          0.0   \n",
      "25  0.0         0.0     0.0         0.0      0.0  0.0      0.0          0.0   \n",
      "26  0.0         0.0     0.0         0.0      0.0  0.0      0.0          0.0   \n",
      "27  0.0         0.0     0.0         0.0      0.0  0.0      0.0          0.0   \n",
      "28  0.0         0.0     0.0         0.0      0.0  0.0      0.0          0.0   \n",
      "29  0.0         0.0     0.0         0.0      0.0  0.0      0.0          0.0   \n",
      "30  0.0         0.0     0.0         0.0      0.0  0.0      0.0          0.0   \n",
      "31  0.0         0.0     0.0         0.0      0.0  0.0      0.0          0.0   \n",
      "32  0.0         0.0     0.0         0.0      0.0  0.0      0.0          0.0   \n",
      "33  0.0         0.0     0.0         0.0      0.0  0.0      0.0          0.0   \n",
      "34  0.0         0.0     0.0         0.0      0.0  0.0      0.0          0.0   \n",
      "35  0.0         0.0     0.0         0.0      0.0  0.0      0.0          0.0   \n",
      "36  0.0         0.0     0.0         0.0      0.0  0.0      0.0          0.0   \n",
      "37  0.0         0.0     0.0         0.0      0.0  0.0      0.0          0.0   \n",
      "38  0.0         0.0     0.0         0.0      0.0  0.0      0.0          0.0   \n",
      "39  0.0         0.0     0.0         0.0      0.0  0.0      0.0          0.0   \n",
      "40  0.0         0.0     0.0         0.0      0.0  0.0      0.0          0.0   \n",
      "41  0.0         0.0     0.0         0.0      0.0  0.0      0.0          0.0   \n",
      "42  0.0         0.0     0.0         0.0      0.0  0.0      0.0          0.0   \n",
      "43  0.0         0.0     0.0         0.0      0.0  0.0      0.0          0.0   \n",
      "44  0.0         0.0     0.0         0.0      0.0  0.0      0.0          0.0   \n",
      "45  0.0         0.0     0.0         0.0      0.0  0.0      0.0          0.0   \n",
      "46  0.0         0.0     0.0         0.0      0.0  0.0      0.0          0.0   \n",
      "47  0.0         0.0     0.0         0.0      0.0  0.0      0.0          0.0   \n",
      "48  0.0         0.0     0.0         0.0      0.0  0.0      0.0          0.0   \n",
      "49  0.0         0.0     0.0         0.0      0.0  0.0      0.0          0.0   \n",
      "\n",
      "    100 percent  1000  ...  zimbabwe opposition  zimbabwe ruling  zimbabwean  \\\n",
      "0           0.0   0.0  ...                  0.0              0.0         0.0   \n",
      "1           0.0   0.0  ...                  0.0              0.0         0.0   \n",
      "2           0.0   0.0  ...                  0.0              0.0         0.0   \n",
      "3           0.0   0.0  ...                  0.0              0.0         0.0   \n",
      "4           0.0   0.0  ...                  0.0              0.0         0.0   \n",
      "5           0.0   0.0  ...                  0.0              0.0         0.0   \n",
      "6           0.0   0.0  ...                  0.0              0.0         0.0   \n",
      "7           0.0   0.0  ...                  0.0              0.0         0.0   \n",
      "8           0.0   0.0  ...                  0.0              0.0         0.0   \n",
      "9           0.0   0.0  ...                  0.0              0.0         0.0   \n",
      "10          0.0   0.0  ...                  0.0              0.0         0.0   \n",
      "11          0.0   0.0  ...                  0.0              0.0         0.0   \n",
      "12          0.0   0.0  ...                  0.0              0.0         0.0   \n",
      "13          0.0   0.0  ...                  0.0              0.0         0.0   \n",
      "14          0.0   0.0  ...                  0.0              0.0         0.0   \n",
      "15          0.0   0.0  ...                  0.0              0.0         0.0   \n",
      "16          0.0   0.0  ...                  0.0              0.0         0.0   \n",
      "17          0.0   0.0  ...                  0.0              0.0         0.0   \n",
      "18          0.0   0.0  ...                  0.0              0.0         0.0   \n",
      "19          0.0   0.0  ...                  0.0              0.0         0.0   \n",
      "20          0.0   0.0  ...                  0.0              0.0         0.0   \n",
      "21          0.0   0.0  ...                  0.0              0.0         0.0   \n",
      "22          0.0   0.0  ...                  0.0              0.0         0.0   \n",
      "23          0.0   0.0  ...                  0.0              0.0         0.0   \n",
      "24          0.0   0.0  ...                  0.0              0.0         0.0   \n",
      "25          0.0   0.0  ...                  0.0              0.0         0.0   \n",
      "26          0.0   0.0  ...                  0.0              0.0         0.0   \n",
      "27          0.0   0.0  ...                  0.0              0.0         0.0   \n",
      "28          0.0   0.0  ...                  0.0              0.0         0.0   \n",
      "29          0.0   0.0  ...                  0.0              0.0         0.0   \n",
      "30          0.0   0.0  ...                  0.0              0.0         0.0   \n",
      "31          0.0   0.0  ...                  0.0              0.0         0.0   \n",
      "32          0.0   0.0  ...                  0.0              0.0         0.0   \n",
      "33          0.0   0.0  ...                  0.0              0.0         0.0   \n",
      "34          0.0   0.0  ...                  0.0              0.0         0.0   \n",
      "35          0.0   0.0  ...                  0.0              0.0         0.0   \n",
      "36          0.0   0.0  ...                  0.0              0.0         0.0   \n",
      "37          0.0   0.0  ...                  0.0              0.0         0.0   \n",
      "38          0.0   0.0  ...                  0.0              0.0         0.0   \n",
      "39          0.0   0.0  ...                  0.0              0.0         0.0   \n",
      "40          0.0   0.0  ...                  0.0              0.0         0.0   \n",
      "41          0.0   0.0  ...                  0.0              0.0         0.0   \n",
      "42          0.0   0.0  ...                  0.0              0.0         0.0   \n",
      "43          0.0   0.0  ...                  0.0              0.0         0.0   \n",
      "44          0.0   0.0  ...                  0.0              0.0         0.0   \n",
      "45          0.0   0.0  ...                  0.0              0.0         0.0   \n",
      "46          0.0   0.0  ...                  0.0              0.0         0.0   \n",
      "47          0.0   0.0  ...                  0.0              0.0         0.0   \n",
      "48          0.0   0.0  ...                  0.0              0.0         0.0   \n",
      "49          0.0   0.0  ...                  0.0              0.0         0.0   \n",
      "\n",
      "    zimmerman  zing  zone  zoo  zuckerberg  zuma  zuma say  \n",
      "0         0.0   0.0   0.0  0.0         0.0   0.0       0.0  \n",
      "1         0.0   0.0   0.0  0.0         0.0   0.0       0.0  \n",
      "2         0.0   0.0   0.0  0.0         0.0   0.0       0.0  \n",
      "3         0.0   0.0   0.0  0.0         0.0   0.0       0.0  \n",
      "4         0.0   0.0   0.0  0.0         0.0   0.0       0.0  \n",
      "5         0.0   0.0   0.0  0.0         0.0   0.0       0.0  \n",
      "6         0.0   0.0   0.0  0.0         0.0   0.0       0.0  \n",
      "7         0.0   0.0   0.0  0.0         0.0   0.0       0.0  \n",
      "8         0.0   0.0   0.0  0.0         0.0   0.0       0.0  \n",
      "9         0.0   0.0   0.0  0.0         0.0   0.0       0.0  \n",
      "10        0.0   0.0   0.0  0.0         0.0   0.0       0.0  \n",
      "11        0.0   0.0   0.0  0.0         0.0   0.0       0.0  \n",
      "12        0.0   0.0   0.0  0.0         0.0   0.0       0.0  \n",
      "13        0.0   0.0   0.0  0.0         0.0   0.0       0.0  \n",
      "14        0.0   0.0   0.0  0.0         0.0   0.0       0.0  \n",
      "15        0.0   0.0   0.0  0.0         0.0   0.0       0.0  \n",
      "16        0.0   0.0   0.0  0.0         0.0   0.0       0.0  \n",
      "17        0.0   0.0   0.0  0.0         0.0   0.0       0.0  \n",
      "18        0.0   0.0   0.0  0.0         0.0   0.0       0.0  \n",
      "19        0.0   0.0   0.0  0.0         0.0   0.0       0.0  \n",
      "20        0.0   0.0   0.0  0.0         0.0   0.0       0.0  \n",
      "21        0.0   0.0   0.0  0.0         0.0   0.0       0.0  \n",
      "22        0.0   0.0   0.0  0.0         0.0   0.0       0.0  \n",
      "23        0.0   0.0   0.0  0.0         0.0   0.0       0.0  \n",
      "24        0.0   0.0   0.0  0.0         0.0   0.0       0.0  \n",
      "25        0.0   0.0   0.0  0.0         0.0   0.0       0.0  \n",
      "26        0.0   0.0   0.0  0.0         0.0   0.0       0.0  \n",
      "27        0.0   0.0   0.0  0.0         0.0   0.0       0.0  \n",
      "28        0.0   0.0   0.0  0.0         0.0   0.0       0.0  \n",
      "29        0.0   0.0   0.0  0.0         0.0   0.0       0.0  \n",
      "30        0.0   0.0   0.0  0.0         0.0   0.0       0.0  \n",
      "31        0.0   0.0   0.0  0.0         0.0   0.0       0.0  \n",
      "32        0.0   0.0   0.0  0.0         0.0   0.0       0.0  \n",
      "33        0.0   0.0   0.0  0.0         0.0   0.0       0.0  \n",
      "34        0.0   0.0   0.0  0.0         0.0   0.0       0.0  \n",
      "35        0.0   0.0   0.0  0.0         0.0   0.0       0.0  \n",
      "36        0.0   0.0   0.0  0.0         0.0   0.0       0.0  \n",
      "37        0.0   0.0   0.0  0.0         0.0   0.0       0.0  \n",
      "38        0.0   0.0   0.0  0.0         0.0   0.0       0.0  \n",
      "39        0.0   0.0   0.0  0.0         0.0   0.0       0.0  \n",
      "40        0.0   0.0   0.0  0.0         0.0   0.0       0.0  \n",
      "41        0.0   0.0   0.0  0.0         0.0   0.0       0.0  \n",
      "42        0.0   0.0   0.0  0.0         0.0   0.0       0.0  \n",
      "43        0.0   0.0   0.0  0.0         0.0   0.0       0.0  \n",
      "44        0.0   0.0   0.0  0.0         0.0   0.0       0.0  \n",
      "45        0.0   0.0   0.0  0.0         0.0   0.0       0.0  \n",
      "46        0.0   0.0   0.0  0.0         0.0   0.0       0.0  \n",
      "47        0.0   0.0   0.0  0.0         0.0   0.0       0.0  \n",
      "48        0.0   0.0   0.0  0.0         0.0   0.0       0.0  \n",
      "49        0.0   0.0   0.0  0.0         0.0   0.0       0.0  \n",
      "\n",
      "[50 rows x 10000 columns]\n"
     ]
    }
   ],
   "source": [
    "# Display the first few rows of the TF-IDF DataFrame\n",
    "print(tfidf_df.head(50))"
   ]
  },
  {
   "cell_type": "code",
   "execution_count": 34,
   "metadata": {},
   "outputs": [
    {
     "name": "stdout",
     "output_type": "stream",
     "text": [
      "0    donald trump sends embarrass new year eve mess...\n",
      "1    drunk bragging trump staffer start russian col...\n",
      "2    sheriff david clarke becomes internet joke thr...\n",
      "3      trump obsess even obamas name cod website image\n",
      "4      pope francis call donald trump christmas speech\n",
      "5    racist alabama cop brutalize black boy handcuf...\n",
      "6                                    fresh golf course\n",
      "7    trump say insanely racist stuff inside oval of...\n",
      "8           former cia director slam trump un bullying\n",
      "9     brandnew protrump ad feature much kiss make sick\n",
      "Name: lemmatized_text, dtype: object\n",
      "0\n",
      "count    34152.000000\n",
      "mean        59.053994\n",
      "std         17.685429\n",
      "min          0.000000\n",
      "25%         49.000000\n",
      "50%         57.000000\n",
      "75%         67.000000\n",
      "max        229.000000\n",
      "Name: lemmatized_text, dtype: float64\n"
     ]
    }
   ],
   "source": [
    "print(data['lemmatized_text'].head(10))\n",
    "print(data['lemmatized_text'].isna().sum())  # Check for NaN values\n",
    "print(data['lemmatized_text'].apply(len).describe())  # Analyze lengths of text"
   ]
  },
  {
   "cell_type": "code",
   "execution_count": 35,
   "metadata": {},
   "outputs": [],
   "source": [
    "X = tfidf_df  # Feature set\n",
    "y = data['label']  \n",
    "# Split data into training and testing sets (80% train, 20% test)\n",
    "X_train, X_test, y_train, y_test = train_test_split(X, y, test_size=0.2, random_state=42)"
   ]
  },
  {
   "cell_type": "code",
   "execution_count": 36,
   "metadata": {},
   "outputs": [
    {
     "name": "stdout",
     "output_type": "stream",
     "text": [
      "Logistic Regression Accuracy: 0.9285609720392329\n",
      "Classification Report:\n",
      "               precision    recall  f1-score   support\n",
      "\n",
      "           0       0.94      0.92      0.93      3529\n",
      "           1       0.92      0.94      0.93      3302\n",
      "\n",
      "    accuracy                           0.93      6831\n",
      "   macro avg       0.93      0.93      0.93      6831\n",
      "weighted avg       0.93      0.93      0.93      6831\n",
      "\n"
     ]
    }
   ],
   "source": [
    "# Train Logistic Regression\n",
    "log_reg = LogisticRegression(max_iter=1000)\n",
    "log_reg.fit(X_train, y_train)\n",
    "\n",
    "# Predict and evaluate\n",
    "y_pred_lr = log_reg.predict(X_test)\n",
    "print(\"Logistic Regression Accuracy:\", accuracy_score(y_test, y_pred_lr))\n",
    "print(\"Classification Report:\\n\", classification_report(y_test, y_pred_lr))"
   ]
  },
  {
   "cell_type": "code",
   "execution_count": 37,
   "metadata": {},
   "outputs": [
    {
     "name": "stdout",
     "output_type": "stream",
     "text": [
      "Decision Tree Accuracy: 0.8685404772361294\n",
      "Classification Report:\n",
      "               precision    recall  f1-score   support\n",
      "\n",
      "           0       0.88      0.87      0.87      3529\n",
      "           1       0.86      0.87      0.86      3302\n",
      "\n",
      "    accuracy                           0.87      6831\n",
      "   macro avg       0.87      0.87      0.87      6831\n",
      "weighted avg       0.87      0.87      0.87      6831\n",
      "\n"
     ]
    }
   ],
   "source": [
    "# Train Decision Tree Classifier\n",
    "tree_clf = DecisionTreeClassifier()\n",
    "tree_clf.fit(X_train, y_train)\n",
    "\n",
    "# Predict and evaluate\n",
    "y_pred_tree = tree_clf.predict(X_test)\n",
    "print(\"Decision Tree Accuracy:\", accuracy_score(y_test, y_pred_tree))\n",
    "print(\"Classification Report:\\n\", classification_report(y_test, y_pred_tree))"
   ]
  },
  {
   "cell_type": "code",
   "execution_count": 38,
   "metadata": {},
   "outputs": [
    {
     "name": "stdout",
     "output_type": "stream",
     "text": [
      "Number of NaN values: 0\n"
     ]
    }
   ],
   "source": [
    "print(\"Number of NaN values:\", data['lemmatized_text'].isna().sum())"
   ]
  },
  {
   "cell_type": "code",
   "execution_count": 39,
   "metadata": {},
   "outputs": [
    {
     "name": "stdout",
     "output_type": "stream",
     "text": [
      "count    34152.000000\n",
      "mean        59.053994\n",
      "std         17.685429\n",
      "min          0.000000\n",
      "25%         49.000000\n",
      "50%         57.000000\n",
      "75%         67.000000\n",
      "max        229.000000\n",
      "Name: lemmatized_text, dtype: float64\n"
     ]
    }
   ],
   "source": [
    "print(data['lemmatized_text'].apply(len).describe())"
   ]
  },
  {
   "cell_type": "code",
   "execution_count": 40,
   "metadata": {},
   "outputs": [
    {
     "name": "stdout",
     "output_type": "stream",
     "text": [
      "TF-IDF Features:\n",
      "     10  10 billion  10 day  10 million  10 year  100  100 day  100 million  \\\n",
      "0  0.0         0.0     0.0         0.0      0.0  0.0      0.0          0.0   \n",
      "1  0.0         0.0     0.0         0.0      0.0  0.0      0.0          0.0   \n",
      "2  0.0         0.0     0.0         0.0      0.0  0.0      0.0          0.0   \n",
      "3  0.0         0.0     0.0         0.0      0.0  0.0      0.0          0.0   \n",
      "4  0.0         0.0     0.0         0.0      0.0  0.0      0.0          0.0   \n",
      "\n",
      "   100 percent  1000  ...  zimbabwe opposition  zimbabwe ruling  zimbabwean  \\\n",
      "0          0.0   0.0  ...                  0.0              0.0         0.0   \n",
      "1          0.0   0.0  ...                  0.0              0.0         0.0   \n",
      "2          0.0   0.0  ...                  0.0              0.0         0.0   \n",
      "3          0.0   0.0  ...                  0.0              0.0         0.0   \n",
      "4          0.0   0.0  ...                  0.0              0.0         0.0   \n",
      "\n",
      "   zimmerman  zing  zone  zoo  zuckerberg  zuma  zuma say  \n",
      "0        0.0   0.0   0.0  0.0         0.0   0.0       0.0  \n",
      "1        0.0   0.0   0.0  0.0         0.0   0.0       0.0  \n",
      "2        0.0   0.0   0.0  0.0         0.0   0.0       0.0  \n",
      "3        0.0   0.0   0.0  0.0         0.0   0.0       0.0  \n",
      "4        0.0   0.0   0.0  0.0         0.0   0.0       0.0  \n",
      "\n",
      "[5 rows x 10000 columns]\n"
     ]
    }
   ],
   "source": [
    "print(\"TF-IDF Features:\\n\", tfidf_df.head())"
   ]
  },
  {
   "cell_type": "markdown",
   "metadata": {},
   "source": [
    "## Bayes Model / Paul "
   ]
  },
  {
   "cell_type": "code",
   "execution_count": 55,
   "metadata": {},
   "outputs": [
    {
     "name": "stdout",
     "output_type": "stream",
     "text": [
      "Accuracy: 0.8454106280193237\n"
     ]
    }
   ],
   "source": [
    "from sklearn.naive_bayes import GaussianNB\n",
    "from sklearn.metrics import accuracy_score\n",
    "\n",
    "from sklearn.preprocessing import StandardScaler\n",
    "scaler = StandardScaler()\n",
    "X_train_scaled = scaler.fit_transform(X_train)\n",
    "X_test_scaled = scaler.transform(X_test)\n",
    "\n",
    "\n",
    "# Naive Bayes Modell\n",
    "bayes_model = GaussianNB()\n",
    "bayes_model.fit(X_train_scaled, y_train)\n",
    "\n",
    "# Vorhersagen\n",
    "y_pred = bayes_model.predict(X_test_scaled)\n",
    "\n",
    "# Genauigkeit\n",
    "accuracy = accuracy_score(y_test, y_pred)\n",
    "print(f\"Accuracy: {accuracy}\")"
   ]
  },
  {
   "cell_type": "code",
   "execution_count": 56,
   "metadata": {},
   "outputs": [
    {
     "data": {
      "image/png": "[encoded data removed]",
      "text/plain": [
       "<Figure size 640x480 with 1 Axes>"
      ]
     },
     "metadata": {},
     "output_type": "display_data"
    }
   ],
   "source": [
    "from sklearn.metrics import precision_recall_curve\n",
    "import matplotlib.pyplot as plt\n",
    "\n",
    "precision, recall, _ = precision_recall_curve(y_test, predictions3)\n",
    "plt.plot(recall, precision, label=\"Bayesian Model\")\n",
    "plt.xlabel(\"Recall\")\n",
    "plt.ylabel(\"Precision\")\n",
    "plt.title(\"Precision-Recall Curve\")\n",
    "plt.legend()\n",
    "plt.show()\n"
   ]
  },
  {
   "cell_type": "code",
   "execution_count": 57,
   "metadata": {},
   "outputs": [
    {
     "data": {
      "image/png": "[encoded data removed]",
      "text/plain": [
       "<Figure size 1800x500 with 6 Axes>"
      ]
     },
     "metadata": {},
     "output_type": "display_data"
    }
   ],
   "source": [
    "import numpy as np\n",
    "import matplotlib.pyplot as plt\n",
    "import seaborn as sns\n",
    "from sklearn.metrics import confusion_matrix, accuracy_score\n",
    "\n",
    "# Define class names\n",
    "class_names = ['Fake', 'True']\n",
    "\n",
    "# Predictions and ground truth for model #1\n",
    "predictions1 = log_reg.predict(X_test)  # Logistic Regression predictions\n",
    "cm1 = confusion_matrix(y_test, predictions1)\n",
    "\n",
    "# Predictions and ground truth for model #2\n",
    "predictions2 = tree_clf.predict(X_test)  # Decision Tree predictions\n",
    "cm2 = confusion_matrix(y_test, predictions2)\n",
    "\n",
    "# Predictions and ground truth for model #3\n",
    "predictions3 = bayes_model.predict(X_test_scaled)  # Bayesian predictions\n",
    "cm3 = confusion_matrix(y_test, predictions3)\n",
    "\n",
    "# Create subplots for all three models\n",
    "fig, axs = plt.subplots(1, 3, figsize=(18, 5))  # 1 row, 3 columns\n",
    "\n",
    "# Plot Confusion Matrix for Model #1\n",
    "sns.heatmap(cm1, annot=True, fmt='d', cmap='Blues',\n",
    "            xticklabels=class_names, yticklabels=class_names, ax=axs[0])\n",
    "axs[0].set_title('Confusion Matrix Logistic Regression #1')\n",
    "axs[0].set_xlabel('Predicted Labels')\n",
    "axs[0].set_ylabel('True Labels')\n",
    "\n",
    "# Plot Confusion Matrix for Model #2\n",
    "sns.heatmap(cm2, annot=True, fmt='d', cmap='Blues',\n",
    "            xticklabels=class_names, yticklabels=class_names, ax=axs[1])\n",
    "axs[1].set_title('Confusion Matrix Decision Tree #2')\n",
    "axs[1].set_xlabel('Predicted Labels')\n",
    "axs[1].set_ylabel('True Labels')\n",
    "\n",
    "# Plot Confusion Matrix for Model #3\n",
    "sns.heatmap(cm3, annot=True, fmt='d', cmap='Blues',\n",
    "            xticklabels=class_names, yticklabels=class_names, ax=axs[2])\n",
    "axs[2].set_title('Confusion Matrix Bayes Model #3')\n",
    "axs[2].set_xlabel('Predicted Labels')\n",
    "axs[2].set_ylabel('True Labels')\n",
    "\n",
    "# Adjust layout to ensure proper spacing\n",
    "plt.tight_layout()\n",
    "plt.show()\n"
   ]
  },
  {
   "cell_type": "code",
   "execution_count": 64,
   "metadata": {},
   "outputs": [
    {
     "name": "stdout",
     "output_type": "stream",
     "text": [
      "                 Model  Accuracy Top Feature\n",
      "0  Logistic Regression  0.928561       trump\n",
      "1        Decision Tree  0.868540       trump\n",
      "2       Bayesian Model  0.845411       trump\n"
     ]
    }
   ],
   "source": [
    "import pandas as pd\n",
    "\n",
    "# Calculate Accuracy for Each Model\n",
    "accuracy_lr = accuracy_score(y_test, predictions1)\n",
    "accuracy_tree = accuracy_score(y_test, predictions2)\n",
    "accuracy_bayes = accuracy_score(y_test, predictions3)\n",
    "\n",
    "# Extract Feature Importance for Vectorizer\n",
    "feature_names = tfidf_vectorizer.get_feature_names_out()\n",
    "tfidf_features = pd.DataFrame(tfidf_matrix.toarray(), columns=feature_names)\n",
    "\n",
    "# Top Features from the Vectorizer (example: sum across columns)\n",
    "feature_importance = tfidf_features.sum(axis=0).sort_values(ascending=False).head(10)\n",
    "\n",
    "# Create a Summary Table\n",
    "summary_table = pd.DataFrame({\n",
    "    'Model': ['Logistic Regression', 'Decision Tree', 'Bayesian Model'],\n",
    "    'Accuracy': [accuracy_lr, accuracy_tree, accuracy_bayes],\n",
    "    'Top Feature': [feature_importance.index[0], feature_importance.index[0], feature_importance.index[0]]\n",
    "})\n",
    "\n",
    "print(summary_table)\n"
   ]
  },
  {
   "cell_type": "markdown",
   "metadata": {},
   "source": [
    "### Comparison of Accuracy Across Models\n",
    "\n"
   ]
  },
  {
   "cell_type": "code",
   "execution_count": 65,
   "metadata": {},
   "outputs": [
    {
     "data": {
      "image/png": "[encoded data removed]",
      "text/plain": [
       "<Figure size 640x480 with 1 Axes>"
      ]
     },
     "metadata": {},
     "output_type": "display_data"
    }
   ],
   "source": [
    "import matplotlib.pyplot as plt\n",
    "\n",
    "models = ['Logistic Regression', 'Decision Tree', 'Bayesian Model']\n",
    "accuracies = [accuracy_lr, accuracy_tree, accuracy_bayes]\n",
    "\n",
    "plt.bar(models, accuracies, color=['blue', 'green', 'orange'])\n",
    "plt.xlabel(\"Model\")\n",
    "plt.ylabel(\"Accuracy\")\n",
    "plt.title(\"Model Accuracy Comparison\")\n",
    "plt.show()\n"
   ]
  },
  {
   "cell_type": "markdown",
   "metadata": {},
   "source": [
    "# Stacking Test"
   ]
  },
  {
   "cell_type": "code",
   "execution_count": 72,
   "metadata": {},
   "outputs": [
    {
     "name": "stdout",
     "output_type": "stream",
     "text": [
      "Stacking Model Accuracy: 0.93\n"
     ]
    }
   ],
   "source": [
    "from sklearn.ensemble import StackingClassifier\n",
    "from sklearn.naive_bayes import GaussianNB\n",
    "from sklearn.linear_model import LogisticRegression\n",
    "from sklearn.tree import DecisionTreeClassifier\n",
    "from sklearn.metrics import accuracy_score\n",
    "\n",
    "# Define base models\n",
    "base_models = [\n",
    "    ('log_reg', LogisticRegression(max_iter=1000)),\n",
    "    ('decision_tree', DecisionTreeClassifier()),\n",
    "    ('bayes', GaussianNB())\n",
    "]\n",
    "\n",
    "# Define meta-model\n",
    "meta_model = LogisticRegression(max_iter=1000)\n",
    "\n",
    "# Create stacking classifier\n",
    "stacking_clf = StackingClassifier(estimators=base_models, final_estimator=meta_model, cv=5)\n",
    "\n",
    "# Train stacking model\n",
    "stacking_clf.fit(X_train, y_train)\n",
    "\n",
    "# Predict and evaluate\n",
    "stacking_predictions = stacking_clf.predict(X_test)\n",
    "stacking_accuracy = accuracy_score(y_test, stacking_predictions)\n",
    "\n",
    "print(f\"Stacking Model Accuracy: {stacking_accuracy:.2f}\")\n"
   ]
  },
  {
   "cell_type": "markdown",
   "metadata": {},
   "source": []
  },
  {
   "cell_type": "markdown",
   "metadata": {},
   "source": [
    "## Bagging Ensemble\n"
   ]
  },
  {
   "cell_type": "code",
   "execution_count": 66,
   "metadata": {},
   "outputs": [
    {
     "name": "stdout",
     "output_type": "stream",
     "text": [
      "Bagging Model Accuracy: 0.87\n"
     ]
    }
   ],
   "source": [
    "from sklearn.ensemble import BaggingClassifier\n",
    "from sklearn.naive_bayes import GaussianNB\n",
    "from sklearn.metrics import accuracy_score\n",
    "\n",
    "# Create bagging classifier using Bayesian Model\n",
    "bagging_clf = BaggingClassifier(estimator=GaussianNB(), n_estimators=10, random_state=42)\n",
    "\n",
    "# Train the model\n",
    "bagging_clf.fit(X_train, y_train)\n",
    "\n",
    "# Predict and evaluate\n",
    "bagging_predictions = bagging_clf.predict(X_test)\n",
    "bagging_accuracy = accuracy_score(y_test, bagging_predictions)\n",
    "\n",
    "print(f\"Bagging Model Accuracy: {bagging_accuracy:.2f}\")\n"
   ]
  },
  {
   "cell_type": "markdown",
   "metadata": {},
   "source": [
    "## Blending (Alternative to Stacking)"
   ]
  },
  {
   "cell_type": "code",
   "execution_count": 67,
   "metadata": {},
   "outputs": [
    {
     "name": "stdout",
     "output_type": "stream",
     "text": [
      "Blended Model Accuracy: 0.93\n"
     ]
    }
   ],
   "source": [
    "from sklearn.model_selection import train_test_split\n",
    "import numpy as np\n",
    "\n",
    "# Split training data for blending\n",
    "X_blend_train, X_meta, y_blend_train, y_meta = train_test_split(X_train, y_train, test_size=0.2, random_state=42)\n",
    "\n",
    "# Train base models\n",
    "log_reg.fit(X_blend_train, y_blend_train)\n",
    "tree_clf.fit(X_blend_train, y_blend_train)\n",
    "bayes_model.fit(X_blend_train, y_blend_train)\n",
    "\n",
    "# Get predictions from base models\n",
    "log_reg_preds = log_reg.predict_proba(X_meta)[:, 1]\n",
    "tree_clf_preds = tree_clf.predict_proba(X_meta)[:, 1]\n",
    "bayes_preds = bayes_model.predict_proba(X_meta)[:, 1]\n",
    "\n",
    "# Combine predictions as features for meta-model\n",
    "meta_features = np.column_stack((log_reg_preds, tree_clf_preds, bayes_preds))\n",
    "\n",
    "# Train meta-model\n",
    "meta_model.fit(meta_features, y_meta)\n",
    "\n",
    "# Final prediction using meta-model\n",
    "test_meta_features = np.column_stack((\n",
    "    log_reg.predict_proba(X_test)[:, 1],\n",
    "    tree_clf.predict_proba(X_test)[:, 1],\n",
    "    bayes_model.predict_proba(X_test)[:, 1]\n",
    "))\n",
    "blended_predictions = meta_model.predict(test_meta_features)\n",
    "blended_accuracy = accuracy_score(y_test, blended_predictions)\n",
    "\n",
    "print(f\"Blended Model Accuracy: {blended_accuracy:.2f}\")\n"
   ]
  },
  {
   "cell_type": "markdown",
   "metadata": {},
   "source": [
    "### Comparison of Stacking, Bagging, and Blending"
   ]
  },
  {
   "cell_type": "code",
   "execution_count": 73,
   "metadata": {},
   "outputs": [
    {
     "name": "stdout",
     "output_type": "stream",
     "text": [
      "                 Model  Accuracy\n",
      "0  Logistic Regression  0.928561\n",
      "1        Decision Tree  0.868540\n",
      "2       Bayesian Model  0.845411\n",
      "3             Stacking  0.934993\n",
      "4              Bagging  0.867955\n",
      "5             Blending  0.931782\n"
     ]
    }
   ],
   "source": [
    "summary_table = pd.DataFrame({\n",
    "    'Model': ['Logistic Regression', 'Decision Tree', 'Bayesian Model', 'Stacking', 'Bagging', 'Blending'],\n",
    "    'Accuracy': [accuracy_lr, accuracy_tree, accuracy_bayes, stacking_accuracy, bagging_accuracy, blended_accuracy]\n",
    "})\n",
    "\n",
    "print(summary_table)\n"
   ]
  },
  {
   "cell_type": "code",
   "execution_count": 69,
   "metadata": {},
   "outputs": [
    {
     "name": "stdout",
     "output_type": "stream",
     "text": [
      "Logistic Regression: Mean Accuracy = 0.93\n",
      "Decision Tree: Mean Accuracy = 0.86\n",
      "Bayesian Model: Mean Accuracy = 0.86\n",
      "Fourth Model: Mean Accuracy = 0.93\n"
     ]
    }
   ],
   "source": [
    "from sklearn.model_selection import KFold\n",
    "from sklearn.naive_bayes import GaussianNB\n",
    "from sklearn.linear_model import LogisticRegression\n",
    "from sklearn.tree import DecisionTreeClassifier\n",
    "from sklearn.metrics import accuracy_score\n",
    "\n",
    "# Define the models\n",
    "models = {\n",
    "    \"Logistic Regression\": LogisticRegression(max_iter=1000),\n",
    "    \"Decision Tree\": DecisionTreeClassifier(),\n",
    "    \"Bayesian Model\": GaussianNB(),\n",
    "    \"Fourth Model\": LogisticRegression(max_iter=1000)  # Replace with your fourth model\n",
    "}\n",
    "\n",
    "# Set up K-Fold Cross-Validation\n",
    "kf = KFold(n_splits=5, shuffle=True, random_state=42)  # 5 folds\n",
    "\n",
    "# To store results\n",
    "model_accuracies = {name: [] for name in models}\n",
    "\n",
    "# Perform K-Fold Splitting and Training\n",
    "for train_index, test_index in kf.split(X):\n",
    "    X_train, X_test = X.iloc[train_index], X.iloc[test_index]\n",
    "    y_train, y_test = y.iloc[train_index], y.iloc[test_index]\n",
    "\n",
    "    # Train and evaluate each model\n",
    "    for model_name, model in models.items():\n",
    "        model.fit(X_train, y_train)\n",
    "        predictions = model.predict(X_test)\n",
    "        accuracy = accuracy_score(y_test, predictions)\n",
    "        model_accuracies[model_name].append(accuracy)\n",
    "\n",
    "# Calculate mean accuracy for each model\n",
    "mean_accuracies = {name: sum(scores) / len(scores) for name, scores in model_accuracies.items()}\n",
    "\n",
    "# Print results\n",
    "for model_name, mean_accuracy in mean_accuracies.items():\n",
    "    print(f\"{model_name}: Mean Accuracy = {mean_accuracy:.2f}\")\n"
   ]
  },
  {
   "cell_type": "code",
   "execution_count": null,
   "metadata": {},
   "outputs": [],
   "source": []
  }
 ],
 "metadata": {
  "kernelspec": {
   "display_name": "base",
   "language": "python",
   "name": "python3"
  },
  "language_info": {
   "codemirror_mode": {
    "name": "ipython",
    "version": 3
   },
   "file_extension": ".py",
   "mimetype": "text/x-python",
   "name": "python",
   "nbconvert_exporter": "python",
   "pygments_lexer": "ipython3",
   "version": "3.12.4"
  }
 },
 "nbformat": 4,
 "nbformat_minor": 2
}
