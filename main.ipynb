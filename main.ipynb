{
 "cells": [
  {
   "cell_type": "code",
   "execution_count": 118,
   "metadata": {},
   "outputs": [
    {
     "name": "stderr",
     "output_type": "stream",
     "text": [
      "[nltk_data] Downloading package stopwords to /Users/sven/nltk_data...\n",
      "[nltk_data]   Package stopwords is already up-to-date!\n",
      "[nltk_data] Downloading package punkt to /Users/sven/nltk_data...\n",
      "[nltk_data]   Package punkt is already up-to-date!\n",
      "[nltk_data] Downloading package punkt_tab to /Users/sven/nltk_data...\n",
      "[nltk_data]   Package punkt_tab is already up-to-date!\n",
      "[nltk_data] Downloading package averaged_perceptron_tagger_eng to\n",
      "[nltk_data]     /Users/sven/nltk_data...\n",
      "[nltk_data]   Package averaged_perceptron_tagger_eng is already up-to-\n",
      "[nltk_data]       date!\n",
      "[nltk_data] Downloading package wordnet to /Users/sven/nltk_data...\n",
      "[nltk_data]   Package wordnet is already up-to-date!\n"
     ]
    }
   ],
   "source": [
    "import pandas as pd\n",
    "import numpy as np\n",
    "import re\n",
    "\n",
    "from sklearn.model_selection import train_test_split\n",
    "from sklearn.feature_extraction.text import TfidfVectorizer\n",
    "from sklearn.linear_model import LogisticRegression\n",
    "from sklearn.tree import DecisionTreeClassifier\n",
    "from sklearn.metrics import classification_report, accuracy_score\n",
    "\n",
    "import nltk\n",
    "nltk.download('stopwords')\n",
    "nltk.download('punkt')\n",
    "nltk.download('punkt_tab')\n",
    "nltk.download('averaged_perceptron_tagger_eng')\n",
    "nltk.download('wordnet')\n",
    "from nltk.tokenize import word_tokenize\n",
    "from nltk.corpus import stopwords, wordnet\n",
    "from nltk.stem import WordNetLemmatizer"
   ]
  },
  {
   "cell_type": "code",
   "execution_count": 119,
   "metadata": {},
   "outputs": [],
   "source": [
    "# Load the data\n",
    "data_file = \"training_data_lowercase.csv\"\n",
    "data = pd.read_csv(data_file, sep=\"\\t\", header=None)  # Load as tab-delimited file without headers"
   ]
  },
  {
   "cell_type": "code",
   "execution_count": 120,
   "metadata": {},
   "outputs": [
    {
     "data": {
      "text/html": [
       "<div>\n",
       "<style scoped>\n",
       "    .dataframe tbody tr th:only-of-type {\n",
       "        vertical-align: middle;\n",
       "    }\n",
       "\n",
       "    .dataframe tbody tr th {\n",
       "        vertical-align: top;\n",
       "    }\n",
       "\n",
       "    .dataframe thead th {\n",
       "        text-align: right;\n",
       "    }\n",
       "</style>\n",
       "<table border=\"1\" class=\"dataframe\">\n",
       "  <thead>\n",
       "    <tr style=\"text-align: right;\">\n",
       "      <th></th>\n",
       "      <th>label</th>\n",
       "      <th>text</th>\n",
       "    </tr>\n",
       "  </thead>\n",
       "  <tbody>\n",
       "    <tr>\n",
       "      <th>0</th>\n",
       "      <td>0</td>\n",
       "      <td>donald trump sends out embarrassing new year‚s...</td>\n",
       "    </tr>\n",
       "    <tr>\n",
       "      <th>1</th>\n",
       "      <td>0</td>\n",
       "      <td>drunk bragging trump staffer started russian c...</td>\n",
       "    </tr>\n",
       "    <tr>\n",
       "      <th>2</th>\n",
       "      <td>0</td>\n",
       "      <td>sheriff david clarke becomes an internet joke ...</td>\n",
       "    </tr>\n",
       "    <tr>\n",
       "      <th>3</th>\n",
       "      <td>0</td>\n",
       "      <td>trump is so obsessed he even has obama‚s name ...</td>\n",
       "    </tr>\n",
       "    <tr>\n",
       "      <th>4</th>\n",
       "      <td>0</td>\n",
       "      <td>pope francis just called out donald trump duri...</td>\n",
       "    </tr>\n",
       "  </tbody>\n",
       "</table>\n",
       "</div>"
      ],
      "text/plain": [
       "   label                                               text\n",
       "0      0  donald trump sends out embarrassing new year‚s...\n",
       "1      0  drunk bragging trump staffer started russian c...\n",
       "2      0  sheriff david clarke becomes an internet joke ...\n",
       "3      0  trump is so obsessed he even has obama‚s name ...\n",
       "4      0  pope francis just called out donald trump duri..."
      ]
     },
     "execution_count": 120,
     "metadata": {},
     "output_type": "execute_result"
    }
   ],
   "source": [
    "# Assign new column names\n",
    "data.columns = ['label', 'text']\n",
    "\n",
    "data.head(5)"
   ]
  },
  {
   "cell_type": "code",
   "execution_count": 121,
   "metadata": {},
   "outputs": [],
   "source": [
    "# Remove special characters\n",
    "data['text'] = data['text'].str.replace(r'[^a-z0-9\\s]', '', regex=True)"
   ]
  },
  {
   "cell_type": "code",
   "execution_count": 122,
   "metadata": {},
   "outputs": [],
   "source": [
    "# Define a set of common English stopwords using NLTK's predefined list.\n",
    "stop_words = set(stopwords.words('english'))"
   ]
  },
  {
   "cell_type": "code",
   "execution_count": 123,
   "metadata": {},
   "outputs": [],
   "source": [
    "# Tokenize and remove stopwords for each text entry in the dataframe\n",
    "data['filtered_text'] = data['text'].apply(lambda x: [word for word in word_tokenize(x) if word.lower() not in stop_words])"
   ]
  },
  {
   "cell_type": "code",
   "execution_count": 124,
   "metadata": {},
   "outputs": [
    {
     "name": "stdout",
     "output_type": "stream",
     "text": [
      "   label                                               text  \\\n",
      "0      0  donald trump sends out embarrassing new years ...   \n",
      "1      0  drunk bragging trump staffer started russian c...   \n",
      "2      0  sheriff david clarke becomes an internet joke ...   \n",
      "3      0  trump is so obsessed he even has obamas name c...   \n",
      "4      0  pope francis just called out donald trump duri...   \n",
      "\n",
      "                                       filtered_text  \\\n",
      "0  [donald, trump, sends, embarrassing, new, year...   \n",
      "1  [drunk, bragging, trump, staffer, started, rus...   \n",
      "2  [sheriff, david, clarke, becomes, internet, jo...   \n",
      "3  [trump, obsessed, even, obamas, name, coded, w...   \n",
      "4  [pope, francis, called, donald, trump, christm...   \n",
      "\n",
      "                                     lemmatized_text  \n",
      "0  [donald, trump, sends, embarrass, new, year, e...  \n",
      "1  [drunk, bragging, trump, staffer, start, russi...  \n",
      "2  [sheriff, david, clarke, becomes, internet, jo...  \n",
      "3  [trump, obsess, even, obamas, name, cod, websi...  \n",
      "4  [pope, francis, call, donald, trump, christmas...  \n"
     ]
    }
   ],
   "source": [
    "# Lemmatization of text to leverage the context as well\n",
    "\n",
    "# from nltk.stem import WordNetLemmatizer\n",
    "# from nltk.corpus import wordnet\n",
    "\n",
    "# Initialize the lemmatizer\n",
    "lemmatizer = WordNetLemmatizer()\n",
    "\n",
    "# Function to get part-of-speech (POS) tagging for more accurate lemmatization\n",
    "def get_wordnet_pos(word):\n",
    "    from nltk.corpus import wordnet\n",
    "    from nltk import pos_tag\n",
    "    tag = pos_tag([word])[0][1][0].upper()\n",
    "    tag_dict = {\n",
    "        'J': wordnet.ADJ,  # Adjective\n",
    "        'N': wordnet.NOUN,  # Noun\n",
    "        'V': wordnet.VERB,  # Verb\n",
    "        'R': wordnet.ADV   # Adverb\n",
    "    }\n",
    "    return tag_dict.get(tag, wordnet.NOUN)  # Default to noun\n",
    "\n",
    "# Apply lemmatization to the filtered_text column\n",
    "data['lemmatized_text'] = data['filtered_text'].apply(\n",
    "    lambda tokens: [lemmatizer.lemmatize(word, get_wordnet_pos(word)) for word in tokens]\n",
    ")\n",
    "\n",
    "# Display the first few rows to verify the result\n",
    "print(data.head())\n",
    "\n"
   ]
  },
  {
   "cell_type": "code",
   "execution_count": 125,
   "metadata": {},
   "outputs": [
    {
     "name": "stdout",
     "output_type": "stream",
     "text": [
      "0        donald trump sends embarrass new year eve mess...\n",
      "1        drunk bragging trump staffer start russian col...\n",
      "2        sheriff david clarke becomes internet joke thr...\n",
      "3          trump obsess even obamas name cod website image\n",
      "4          pope francis call donald trump christmas speech\n",
      "                               ...                        \n",
      "34147              tear rain thai gather late king funeral\n",
      "34148    pyongyang university need nonus teacher travel...\n",
      "34149    philippine president duterte visit japan ahead...\n",
      "34150             japan abe may election many dont want pm\n",
      "34151      demoralize divide inside catalonia police force\n",
      "Name: lemmatized_text, Length: 34152, dtype: object\n"
     ]
    }
   ],
   "source": [
    "# Combine tokens into single text strings for each row in 'lemmatized_text'\n",
    "data['lemmatized_text'] = data['lemmatized_text'].apply(lambda tokens: ' '.join(tokens))\n",
    "\n",
    "print(data['lemmatized_text'])"
   ]
  },
  {
   "cell_type": "code",
   "execution_count": 126,
   "metadata": {},
   "outputs": [],
   "source": [
    "# Initialize TF-IDF Vectorizer\n",
    "tfidf_vectorizer = TfidfVectorizer(\n",
    "    max_features=10000,  \n",
    "    stop_words='english',  # Exclude common stopwords \n",
    "    ngram_range=(1, 2)  # Consider unigrams and bigrams \n",
    ")"
   ]
  },
  {
   "cell_type": "code",
   "execution_count": 127,
   "metadata": {},
   "outputs": [],
   "source": [
    "# Fit and transform the lemmatized text column\n",
    "tfidf_matrix = tfidf_vectorizer.fit_transform(data['lemmatized_text'])"
   ]
  },
  {
   "cell_type": "code",
   "execution_count": 128,
   "metadata": {},
   "outputs": [],
   "source": [
    "# Convert the resulting sparse matrix to a DataFrame for analysis\n",
    "tfidf_df = pd.DataFrame(tfidf_matrix.toarray(), columns=tfidf_vectorizer.get_feature_names_out())\n"
   ]
  },
  {
   "cell_type": "code",
   "execution_count": 129,
   "metadata": {},
   "outputs": [
    {
     "name": "stdout",
     "output_type": "stream",
     "text": [
      "     10  10 billion  10 day  10 million  10 year  100  100 day  100 million  \\\n",
      "0   0.0         0.0     0.0         0.0      0.0  0.0      0.0          0.0   \n",
      "1   0.0         0.0     0.0         0.0      0.0  0.0      0.0          0.0   \n",
      "2   0.0         0.0     0.0         0.0      0.0  0.0      0.0          0.0   \n",
      "3   0.0         0.0     0.0         0.0      0.0  0.0      0.0          0.0   \n",
      "4   0.0         0.0     0.0         0.0      0.0  0.0      0.0          0.0   \n",
      "5   0.0         0.0     0.0         0.0      0.0  0.0      0.0          0.0   \n",
      "6   0.0         0.0     0.0         0.0      0.0  0.0      0.0          0.0   \n",
      "7   0.0         0.0     0.0         0.0      0.0  0.0      0.0          0.0   \n",
      "8   0.0         0.0     0.0         0.0      0.0  0.0      0.0          0.0   \n",
      "9   0.0         0.0     0.0         0.0      0.0  0.0      0.0          0.0   \n",
      "10  0.0         0.0     0.0         0.0      0.0  0.0      0.0          0.0   \n",
      "11  0.0         0.0     0.0         0.0      0.0  0.0      0.0          0.0   \n",
      "12  0.0         0.0     0.0         0.0      0.0  0.0      0.0          0.0   \n",
      "13  0.0         0.0     0.0         0.0      0.0  0.0      0.0          0.0   \n",
      "14  0.0         0.0     0.0         0.0      0.0  0.0      0.0          0.0   \n",
      "15  0.0         0.0     0.0         0.0      0.0  0.0      0.0          0.0   \n",
      "16  0.0         0.0     0.0         0.0      0.0  0.0      0.0          0.0   \n",
      "17  0.0         0.0     0.0         0.0      0.0  0.0      0.0          0.0   \n",
      "18  0.0         0.0     0.0         0.0      0.0  0.0      0.0          0.0   \n",
      "19  0.0         0.0     0.0         0.0      0.0  0.0      0.0          0.0   \n",
      "20  0.0         0.0     0.0         0.0      0.0  0.0      0.0          0.0   \n",
      "21  0.0         0.0     0.0         0.0      0.0  0.0      0.0          0.0   \n",
      "22  0.0         0.0     0.0         0.0      0.0  0.0      0.0          0.0   \n",
      "23  0.0         0.0     0.0         0.0      0.0  0.0      0.0          0.0   \n",
      "24  0.0         0.0     0.0         0.0      0.0  0.0      0.0          0.0   \n",
      "25  0.0         0.0     0.0         0.0      0.0  0.0      0.0          0.0   \n",
      "26  0.0         0.0     0.0         0.0      0.0  0.0      0.0          0.0   \n",
      "27  0.0         0.0     0.0         0.0      0.0  0.0      0.0          0.0   \n",
      "28  0.0         0.0     0.0         0.0      0.0  0.0      0.0          0.0   \n",
      "29  0.0         0.0     0.0         0.0      0.0  0.0      0.0          0.0   \n",
      "30  0.0         0.0     0.0         0.0      0.0  0.0      0.0          0.0   \n",
      "31  0.0         0.0     0.0         0.0      0.0  0.0      0.0          0.0   \n",
      "32  0.0         0.0     0.0         0.0      0.0  0.0      0.0          0.0   \n",
      "33  0.0         0.0     0.0         0.0      0.0  0.0      0.0          0.0   \n",
      "34  0.0         0.0     0.0         0.0      0.0  0.0      0.0          0.0   \n",
      "35  0.0         0.0     0.0         0.0      0.0  0.0      0.0          0.0   \n",
      "36  0.0         0.0     0.0         0.0      0.0  0.0      0.0          0.0   \n",
      "37  0.0         0.0     0.0         0.0      0.0  0.0      0.0          0.0   \n",
      "38  0.0         0.0     0.0         0.0      0.0  0.0      0.0          0.0   \n",
      "39  0.0         0.0     0.0         0.0      0.0  0.0      0.0          0.0   \n",
      "40  0.0         0.0     0.0         0.0      0.0  0.0      0.0          0.0   \n",
      "41  0.0         0.0     0.0         0.0      0.0  0.0      0.0          0.0   \n",
      "42  0.0         0.0     0.0         0.0      0.0  0.0      0.0          0.0   \n",
      "43  0.0         0.0     0.0         0.0      0.0  0.0      0.0          0.0   \n",
      "44  0.0         0.0     0.0         0.0      0.0  0.0      0.0          0.0   \n",
      "45  0.0         0.0     0.0         0.0      0.0  0.0      0.0          0.0   \n",
      "46  0.0         0.0     0.0         0.0      0.0  0.0      0.0          0.0   \n",
      "47  0.0         0.0     0.0         0.0      0.0  0.0      0.0          0.0   \n",
      "48  0.0         0.0     0.0         0.0      0.0  0.0      0.0          0.0   \n",
      "49  0.0         0.0     0.0         0.0      0.0  0.0      0.0          0.0   \n",
      "\n",
      "    100 percent  1000  ...  zimbabwe opposition  zimbabwe ruling  zimbabwean  \\\n",
      "0           0.0   0.0  ...                  0.0              0.0         0.0   \n",
      "1           0.0   0.0  ...                  0.0              0.0         0.0   \n",
      "2           0.0   0.0  ...                  0.0              0.0         0.0   \n",
      "3           0.0   0.0  ...                  0.0              0.0         0.0   \n",
      "4           0.0   0.0  ...                  0.0              0.0         0.0   \n",
      "5           0.0   0.0  ...                  0.0              0.0         0.0   \n",
      "6           0.0   0.0  ...                  0.0              0.0         0.0   \n",
      "7           0.0   0.0  ...                  0.0              0.0         0.0   \n",
      "8           0.0   0.0  ...                  0.0              0.0         0.0   \n",
      "9           0.0   0.0  ...                  0.0              0.0         0.0   \n",
      "10          0.0   0.0  ...                  0.0              0.0         0.0   \n",
      "11          0.0   0.0  ...                  0.0              0.0         0.0   \n",
      "12          0.0   0.0  ...                  0.0              0.0         0.0   \n",
      "13          0.0   0.0  ...                  0.0              0.0         0.0   \n",
      "14          0.0   0.0  ...                  0.0              0.0         0.0   \n",
      "15          0.0   0.0  ...                  0.0              0.0         0.0   \n",
      "16          0.0   0.0  ...                  0.0              0.0         0.0   \n",
      "17          0.0   0.0  ...                  0.0              0.0         0.0   \n",
      "18          0.0   0.0  ...                  0.0              0.0         0.0   \n",
      "19          0.0   0.0  ...                  0.0              0.0         0.0   \n",
      "20          0.0   0.0  ...                  0.0              0.0         0.0   \n",
      "21          0.0   0.0  ...                  0.0              0.0         0.0   \n",
      "22          0.0   0.0  ...                  0.0              0.0         0.0   \n",
      "23          0.0   0.0  ...                  0.0              0.0         0.0   \n",
      "24          0.0   0.0  ...                  0.0              0.0         0.0   \n",
      "25          0.0   0.0  ...                  0.0              0.0         0.0   \n",
      "26          0.0   0.0  ...                  0.0              0.0         0.0   \n",
      "27          0.0   0.0  ...                  0.0              0.0         0.0   \n",
      "28          0.0   0.0  ...                  0.0              0.0         0.0   \n",
      "29          0.0   0.0  ...                  0.0              0.0         0.0   \n",
      "30          0.0   0.0  ...                  0.0              0.0         0.0   \n",
      "31          0.0   0.0  ...                  0.0              0.0         0.0   \n",
      "32          0.0   0.0  ...                  0.0              0.0         0.0   \n",
      "33          0.0   0.0  ...                  0.0              0.0         0.0   \n",
      "34          0.0   0.0  ...                  0.0              0.0         0.0   \n",
      "35          0.0   0.0  ...                  0.0              0.0         0.0   \n",
      "36          0.0   0.0  ...                  0.0              0.0         0.0   \n",
      "37          0.0   0.0  ...                  0.0              0.0         0.0   \n",
      "38          0.0   0.0  ...                  0.0              0.0         0.0   \n",
      "39          0.0   0.0  ...                  0.0              0.0         0.0   \n",
      "40          0.0   0.0  ...                  0.0              0.0         0.0   \n",
      "41          0.0   0.0  ...                  0.0              0.0         0.0   \n",
      "42          0.0   0.0  ...                  0.0              0.0         0.0   \n",
      "43          0.0   0.0  ...                  0.0              0.0         0.0   \n",
      "44          0.0   0.0  ...                  0.0              0.0         0.0   \n",
      "45          0.0   0.0  ...                  0.0              0.0         0.0   \n",
      "46          0.0   0.0  ...                  0.0              0.0         0.0   \n",
      "47          0.0   0.0  ...                  0.0              0.0         0.0   \n",
      "48          0.0   0.0  ...                  0.0              0.0         0.0   \n",
      "49          0.0   0.0  ...                  0.0              0.0         0.0   \n",
      "\n",
      "    zimmerman  zing  zone  zoo  zuckerberg  zuma  zuma say  \n",
      "0         0.0   0.0   0.0  0.0         0.0   0.0       0.0  \n",
      "1         0.0   0.0   0.0  0.0         0.0   0.0       0.0  \n",
      "2         0.0   0.0   0.0  0.0         0.0   0.0       0.0  \n",
      "3         0.0   0.0   0.0  0.0         0.0   0.0       0.0  \n",
      "4         0.0   0.0   0.0  0.0         0.0   0.0       0.0  \n",
      "5         0.0   0.0   0.0  0.0         0.0   0.0       0.0  \n",
      "6         0.0   0.0   0.0  0.0         0.0   0.0       0.0  \n",
      "7         0.0   0.0   0.0  0.0         0.0   0.0       0.0  \n",
      "8         0.0   0.0   0.0  0.0         0.0   0.0       0.0  \n",
      "9         0.0   0.0   0.0  0.0         0.0   0.0       0.0  \n",
      "10        0.0   0.0   0.0  0.0         0.0   0.0       0.0  \n",
      "11        0.0   0.0   0.0  0.0         0.0   0.0       0.0  \n",
      "12        0.0   0.0   0.0  0.0         0.0   0.0       0.0  \n",
      "13        0.0   0.0   0.0  0.0         0.0   0.0       0.0  \n",
      "14        0.0   0.0   0.0  0.0         0.0   0.0       0.0  \n",
      "15        0.0   0.0   0.0  0.0         0.0   0.0       0.0  \n",
      "16        0.0   0.0   0.0  0.0         0.0   0.0       0.0  \n",
      "17        0.0   0.0   0.0  0.0         0.0   0.0       0.0  \n",
      "18        0.0   0.0   0.0  0.0         0.0   0.0       0.0  \n",
      "19        0.0   0.0   0.0  0.0         0.0   0.0       0.0  \n",
      "20        0.0   0.0   0.0  0.0         0.0   0.0       0.0  \n",
      "21        0.0   0.0   0.0  0.0         0.0   0.0       0.0  \n",
      "22        0.0   0.0   0.0  0.0         0.0   0.0       0.0  \n",
      "23        0.0   0.0   0.0  0.0         0.0   0.0       0.0  \n",
      "24        0.0   0.0   0.0  0.0         0.0   0.0       0.0  \n",
      "25        0.0   0.0   0.0  0.0         0.0   0.0       0.0  \n",
      "26        0.0   0.0   0.0  0.0         0.0   0.0       0.0  \n",
      "27        0.0   0.0   0.0  0.0         0.0   0.0       0.0  \n",
      "28        0.0   0.0   0.0  0.0         0.0   0.0       0.0  \n",
      "29        0.0   0.0   0.0  0.0         0.0   0.0       0.0  \n",
      "30        0.0   0.0   0.0  0.0         0.0   0.0       0.0  \n",
      "31        0.0   0.0   0.0  0.0         0.0   0.0       0.0  \n",
      "32        0.0   0.0   0.0  0.0         0.0   0.0       0.0  \n",
      "33        0.0   0.0   0.0  0.0         0.0   0.0       0.0  \n",
      "34        0.0   0.0   0.0  0.0         0.0   0.0       0.0  \n",
      "35        0.0   0.0   0.0  0.0         0.0   0.0       0.0  \n",
      "36        0.0   0.0   0.0  0.0         0.0   0.0       0.0  \n",
      "37        0.0   0.0   0.0  0.0         0.0   0.0       0.0  \n",
      "38        0.0   0.0   0.0  0.0         0.0   0.0       0.0  \n",
      "39        0.0   0.0   0.0  0.0         0.0   0.0       0.0  \n",
      "40        0.0   0.0   0.0  0.0         0.0   0.0       0.0  \n",
      "41        0.0   0.0   0.0  0.0         0.0   0.0       0.0  \n",
      "42        0.0   0.0   0.0  0.0         0.0   0.0       0.0  \n",
      "43        0.0   0.0   0.0  0.0         0.0   0.0       0.0  \n",
      "44        0.0   0.0   0.0  0.0         0.0   0.0       0.0  \n",
      "45        0.0   0.0   0.0  0.0         0.0   0.0       0.0  \n",
      "46        0.0   0.0   0.0  0.0         0.0   0.0       0.0  \n",
      "47        0.0   0.0   0.0  0.0         0.0   0.0       0.0  \n",
      "48        0.0   0.0   0.0  0.0         0.0   0.0       0.0  \n",
      "49        0.0   0.0   0.0  0.0         0.0   0.0       0.0  \n",
      "\n",
      "[50 rows x 10000 columns]\n"
     ]
    }
   ],
   "source": [
    "# Display the first few rows of the TF-IDF DataFrame\n",
    "print(tfidf_df.head(50))"
   ]
  },
  {
   "cell_type": "code",
   "execution_count": 130,
   "metadata": {},
   "outputs": [],
   "source": [
    "X = tfidf_df  # Feature set\n",
    "y = data['label']  \n",
    "\n",
    "# Split data into training and testing sets (80% train, 20% test)\n",
    "X_train, X_test, y_train, y_test = train_test_split(X, y, test_size=0.2, random_state=42)"
   ]
  },
  {
   "cell_type": "code",
   "execution_count": 131,
   "metadata": {},
   "outputs": [
    {
     "name": "stdout",
     "output_type": "stream",
     "text": [
      "Logistic Regression Accuracy: 0.9292929292929293\n",
      "Classification Report:\n",
      "               precision    recall  f1-score   support\n",
      "\n",
      "           0       0.94      0.92      0.93      3529\n",
      "           1       0.92      0.94      0.93      3302\n",
      "\n",
      "    accuracy                           0.93      6831\n",
      "   macro avg       0.93      0.93      0.93      6831\n",
      "weighted avg       0.93      0.93      0.93      6831\n",
      "\n"
     ]
    }
   ],
   "source": [
    "# Train Logistic Regression\n",
    "log_reg = LogisticRegression(max_iter=1000)\n",
    "log_reg.fit(X_train, y_train)\n",
    "\n",
    "# Predict and evaluate\n",
    "y_pred_lr = log_reg.predict(X_test)\n",
    "print(\"Logistic Regression Accuracy:\", accuracy_score(y_test, y_pred_lr))\n",
    "print(\"Classification Report:\\n\", classification_report(y_test, y_pred_lr))"
   ]
  },
  {
   "cell_type": "code",
   "execution_count": 132,
   "metadata": {},
   "outputs": [
    {
     "name": "stdout",
     "output_type": "stream",
     "text": [
      "count    34152.000000\n",
      "mean        59.058562\n",
      "std         17.687234\n",
      "min          0.000000\n",
      "25%         49.000000\n",
      "50%         57.000000\n",
      "75%         67.000000\n",
      "max        229.000000\n",
      "Name: lemmatized_text, dtype: float64\n"
     ]
    }
   ],
   "source": [
    "# Display summary statistics of the lengths of lemmatized text entries to understand the distribution of text size\n",
    "print(data['lemmatized_text'].apply(len).describe())"
   ]
  },
  {
   "cell_type": "code",
   "execution_count": 133,
   "metadata": {},
   "outputs": [
    {
     "name": "stdout",
     "output_type": "stream",
     "text": [
      "Number of NaN values: 0\n"
     ]
    }
   ],
   "source": [
    "# Count and display the number of missing (NaN) values in the 'lemmatized_text' column to check data completeness\n",
    "print(\"Number of NaN values:\", data['lemmatized_text'].isna().sum())"
   ]
  },
  {
   "cell_type": "code",
   "execution_count": 134,
   "metadata": {},
   "outputs": [
    {
     "data": {
      "image/png": "[encoded data removed]",
      "text/plain": [
       "<Figure size 640x480 with 2 Axes>"
      ]
     },
     "metadata": {},
     "output_type": "display_data"
    }
   ],
   "source": [
    "import matplotlib.pyplot as plt  # Import matplotlib for plotting\n",
    "\n",
    "from sklearn.linear_model import LogisticRegression\n",
    "from sklearn.metrics import confusion_matrix, ConfusionMatrixDisplay\n",
    "\n",
    "# Step 1: Train the Logistic Regression model\n",
    "logistic_model = LogisticRegression(max_iter=1000, random_state=42)  # Adjust parameters if needed\n",
    "logistic_model.fit(X_train, y_train)\n",
    "\n",
    "# Step 2: Generate predictions\n",
    "y_pred_logistic = logistic_model.predict(X_test)\n",
    "\n",
    "# Step 3: Compute the confusion matrix\n",
    "cm_logistic = confusion_matrix(y_test, y_pred_logistic)\n",
    "\n",
    "# Step 4: Display the confusion matrix\n",
    "disp_logistic = ConfusionMatrixDisplay(confusion_matrix=cm_logistic, display_labels=logistic_model.classes_)\n",
    "disp_logistic.plot(cmap=plt.cm.Blues)\n",
    "plt.title(\"Confusion Matrix - Logistic Regression\")\n",
    "plt.show()"
   ]
  },
  {
   "cell_type": "code",
   "execution_count": 135,
   "metadata": {},
   "outputs": [],
   "source": [
    "# Load the testing dataset (update file path accordingly)\n",
    "testing_data_file = \"testing_data_lowercase_nolabels.csv\"\n",
    "testing_data = pd.read_csv(testing_data_file, sep=\"\\t\", header=None)  # Tab-separated\n",
    "testing_data.columns = ['label', 'text']\n"
   ]
  },
  {
   "cell_type": "code",
   "execution_count": 136,
   "metadata": {},
   "outputs": [],
   "source": [
    "# Remove special characters\n",
    "testing_data['text'] = testing_data['text'].str.replace(r'[^a-z0-9\\s]', '', regex=True)"
   ]
  },
  {
   "cell_type": "code",
   "execution_count": 137,
   "metadata": {},
   "outputs": [],
   "source": [
    "# Tokenize and remove stopwords for each text entry in the dataframe\n",
    "testing_data['filtered_text'] = testing_data['text'].apply(lambda x: [word for word in word_tokenize(x) if word.lower() not in stop_words])"
   ]
  },
  {
   "cell_type": "code",
   "execution_count": 138,
   "metadata": {},
   "outputs": [
    {
     "name": "stdout",
     "output_type": "stream",
     "text": [
      "  label                                               text  \\\n",
      "0     2  copycat muslim terrorist arrested with assault...   \n",
      "1     2  wow chicago protester caught on camera admits ...   \n",
      "2     2     germanys fdp look to fill schaeubles big shoes   \n",
      "3     2  mi school sends welcome back packet warning ki...   \n",
      "4     2  un seeks massive aid boost amid rohingya emerg...   \n",
      "\n",
      "                                       filtered_text  \\\n",
      "0  [copycat, muslim, terrorist, arrested, assault...   \n",
      "1  [wow, chicago, protester, caught, camera, admi...   \n",
      "2  [germanys, fdp, look, fill, schaeubles, big, s...   \n",
      "3  [mi, school, sends, welcome, back, packet, war...   \n",
      "4  [un, seeks, massive, aid, boost, amid, rohingy...   \n",
      "\n",
      "                                     lemmatized_text  \n",
      "0  [copycat, muslim, terrorist, arrest, assault, ...  \n",
      "1  [wow, chicago, protester, caught, camera, admi...  \n",
      "2  [germany, fdp, look, fill, schaeubles, big, shoe]  \n",
      "3  [mi, school, sends, welcome, back, packet, war...  \n",
      "4  [un, seek, massive, aid, boost, amid, rohingya...  \n"
     ]
    }
   ],
   "source": [
    "# Lemmatization of text to leverage the context as well\n",
    "\n",
    "# Initialize the lemmatizer\n",
    "lemmatizer = WordNetLemmatizer()\n",
    "\n",
    "# Function to get part-of-speech (POS) tagging for more accurate lemmatization\n",
    "def get_wordnet_pos(word):\n",
    "    from nltk.corpus import wordnet\n",
    "    from nltk import pos_tag\n",
    "    tag = pos_tag([word])[0][1][0].upper()\n",
    "    tag_dict = {\n",
    "        'J': wordnet.ADJ,  # Adjective\n",
    "        'N': wordnet.NOUN,  # Noun\n",
    "        'V': wordnet.VERB,  # Verb\n",
    "        'R': wordnet.ADV   # Adverb\n",
    "    }\n",
    "    return tag_dict.get(tag, wordnet.NOUN)  # Default to noun\n",
    "\n",
    "# Apply lemmatization to the filtered_text column\n",
    "testing_data['lemmatized_text'] = testing_data['filtered_text'].apply(\n",
    "    lambda tokens: [lemmatizer.lemmatize(word, get_wordnet_pos(word)) for word in tokens]\n",
    ")\n",
    "\n",
    "# Display the first few rows to verify the result\n",
    "print(testing_data.head())\n"
   ]
  },
  {
   "cell_type": "code",
   "execution_count": 139,
   "metadata": {},
   "outputs": [
    {
     "name": "stdout",
     "output_type": "stream",
     "text": [
      "0          copycat muslim terrorist arrest assault weapon\n",
      "1       wow chicago protester caught camera admits vio...\n",
      "2               germany fdp look fill schaeubles big shoe\n",
      "3       mi school sends welcome back packet warn kid w...\n",
      "4       un seek massive aid boost amid rohingya emerge...\n",
      "                              ...                        \n",
      "9979    boom fox news leftist chris wallace attempt tr...\n",
      "9980    list democrat hypocrite vote filibuster gw bus...\n",
      "9981    new fire ravage rohingya village northwest mya...\n",
      "9982    meal wheel shuts lyin lefty truth moveonorgs f...\n",
      "9983    brilliant tucker carlson ayaan hirsi ali discu...\n",
      "Name: lemmatized_text, Length: 9984, dtype: object\n"
     ]
    }
   ],
   "source": [
    "# Combine tokens into single text strings for each row in 'lemmatized_text'\n",
    "testing_data['lemmatized_text'] = testing_data['lemmatized_text'].apply(lambda tokens: ' '.join(tokens))\n",
    "\n",
    "print(testing_data['lemmatized_text'])"
   ]
  },
  {
   "cell_type": "code",
   "execution_count": 146,
   "metadata": {},
   "outputs": [],
   "source": [
    "# Fit and transform the lemmatized text column\n",
    "tfidf_matrix_testing = tfidf_vectorizer.transform(testing_data['lemmatized_text'])"
   ]
  },
  {
   "cell_type": "code",
   "execution_count": 147,
   "metadata": {},
   "outputs": [],
   "source": [
    "# Convert the resulting sparse matrix to a DataFrame for analysis\n",
    "tfidf_df_testing = pd.DataFrame(tfidf_matrix_testing.toarray(), columns=tfidf_vectorizer.get_feature_names_out())"
   ]
  },
  {
   "cell_type": "code",
   "execution_count": 148,
   "metadata": {},
   "outputs": [
    {
     "name": "stdout",
     "output_type": "stream",
     "text": [
      "     10  10 embarrass  10 minute  10 patrick  10 second  10 steal  10 trend  \\\n",
      "0   0.0           0.0        0.0         0.0        0.0       0.0       0.0   \n",
      "1   0.0           0.0        0.0         0.0        0.0       0.0       0.0   \n",
      "2   0.0           0.0        0.0         0.0        0.0       0.0       0.0   \n",
      "3   0.0           0.0        0.0         0.0        0.0       0.0       0.0   \n",
      "4   0.0           0.0        0.0         0.0        0.0       0.0       0.0   \n",
      "5   0.0           0.0        0.0         0.0        0.0       0.0       0.0   \n",
      "6   0.0           0.0        0.0         0.0        0.0       0.0       0.0   \n",
      "7   0.0           0.0        0.0         0.0        0.0       0.0       0.0   \n",
      "8   0.0           0.0        0.0         0.0        0.0       0.0       0.0   \n",
      "9   0.0           0.0        0.0         0.0        0.0       0.0       0.0   \n",
      "10  0.0           0.0        0.0         0.0        0.0       0.0       0.0   \n",
      "11  0.0           0.0        0.0         0.0        0.0       0.0       0.0   \n",
      "12  0.0           0.0        0.0         0.0        0.0       0.0       0.0   \n",
      "13  0.0           0.0        0.0         0.0        0.0       0.0       0.0   \n",
      "14  0.0           0.0        0.0         0.0        0.0       0.0       0.0   \n",
      "15  0.0           0.0        0.0         0.0        0.0       0.0       0.0   \n",
      "16  0.0           0.0        0.0         0.0        0.0       0.0       0.0   \n",
      "17  0.0           0.0        0.0         0.0        0.0       0.0       0.0   \n",
      "18  0.0           0.0        0.0         0.0        0.0       0.0       0.0   \n",
      "19  0.0           0.0        0.0         0.0        0.0       0.0       0.0   \n",
      "20  0.0           0.0        0.0         0.0        0.0       0.0       0.0   \n",
      "21  0.0           0.0        0.0         0.0        0.0       0.0       0.0   \n",
      "22  0.0           0.0        0.0         0.0        0.0       0.0       0.0   \n",
      "23  0.0           0.0        0.0         0.0        0.0       0.0       0.0   \n",
      "24  0.0           0.0        0.0         0.0        0.0       0.0       0.0   \n",
      "25  0.0           0.0        0.0         0.0        0.0       0.0       0.0   \n",
      "26  0.0           0.0        0.0         0.0        0.0       0.0       0.0   \n",
      "27  0.0           0.0        0.0         0.0        0.0       0.0       0.0   \n",
      "28  0.0           0.0        0.0         0.0        0.0       0.0       0.0   \n",
      "29  0.0           0.0        0.0         0.0        0.0       0.0       0.0   \n",
      "30  0.0           0.0        0.0         0.0        0.0       0.0       0.0   \n",
      "31  0.0           0.0        0.0         0.0        0.0       0.0       0.0   \n",
      "32  0.0           0.0        0.0         0.0        0.0       0.0       0.0   \n",
      "33  0.0           0.0        0.0         0.0        0.0       0.0       0.0   \n",
      "34  0.0           0.0        0.0         0.0        0.0       0.0       0.0   \n",
      "35  0.0           0.0        0.0         0.0        0.0       0.0       0.0   \n",
      "36  0.0           0.0        0.0         0.0        0.0       0.0       0.0   \n",
      "37  0.0           0.0        0.0         0.0        0.0       0.0       0.0   \n",
      "38  0.0           0.0        0.0         0.0        0.0       0.0       0.0   \n",
      "39  0.0           0.0        0.0         0.0        0.0       0.0       0.0   \n",
      "40  0.0           0.0        0.0         0.0        0.0       0.0       0.0   \n",
      "41  0.0           0.0        0.0         0.0        0.0       0.0       0.0   \n",
      "42  0.0           0.0        0.0         0.0        0.0       0.0       0.0   \n",
      "43  0.0           0.0        0.0         0.0        0.0       0.0       0.0   \n",
      "44  0.0           0.0        0.0         0.0        0.0       0.0       0.0   \n",
      "45  0.0           0.0        0.0         0.0        0.0       0.0       0.0   \n",
      "46  0.0           0.0        0.0         0.0        0.0       0.0       0.0   \n",
      "47  0.0           0.0        0.0         0.0        0.0       0.0       0.0   \n",
      "48  0.0           0.0        0.0         0.0        0.0       0.0       0.0   \n",
      "49  0.0           0.0        0.0         0.0        0.0       0.0       0.0   \n",
      "\n",
      "    10 year  10 yr  100  ...  zombie  zombie apocalypse  zombie disneyland  \\\n",
      "0       0.0    0.0  0.0  ...     0.0                0.0                0.0   \n",
      "1       0.0    0.0  0.0  ...     0.0                0.0                0.0   \n",
      "2       0.0    0.0  0.0  ...     0.0                0.0                0.0   \n",
      "3       0.0    0.0  0.0  ...     0.0                0.0                0.0   \n",
      "4       0.0    0.0  0.0  ...     0.0                0.0                0.0   \n",
      "5       0.0    0.0  0.0  ...     0.0                0.0                0.0   \n",
      "6       0.0    0.0  0.0  ...     0.0                0.0                0.0   \n",
      "7       0.0    0.0  0.0  ...     0.0                0.0                0.0   \n",
      "8       0.0    0.0  0.0  ...     0.0                0.0                0.0   \n",
      "9       0.0    0.0  0.0  ...     0.0                0.0                0.0   \n",
      "10      0.0    0.0  0.0  ...     0.0                0.0                0.0   \n",
      "11      0.0    0.0  0.0  ...     0.0                0.0                0.0   \n",
      "12      0.0    0.0  0.0  ...     0.0                0.0                0.0   \n",
      "13      0.0    0.0  0.0  ...     0.0                0.0                0.0   \n",
      "14      0.0    0.0  0.0  ...     0.0                0.0                0.0   \n",
      "15      0.0    0.0  0.0  ...     0.0                0.0                0.0   \n",
      "16      0.0    0.0  0.0  ...     0.0                0.0                0.0   \n",
      "17      0.0    0.0  0.0  ...     0.0                0.0                0.0   \n",
      "18      0.0    0.0  0.0  ...     0.0                0.0                0.0   \n",
      "19      0.0    0.0  0.0  ...     0.0                0.0                0.0   \n",
      "20      0.0    0.0  0.0  ...     0.0                0.0                0.0   \n",
      "21      0.0    0.0  0.0  ...     0.0                0.0                0.0   \n",
      "22      0.0    0.0  0.0  ...     0.0                0.0                0.0   \n",
      "23      0.0    0.0  0.0  ...     0.0                0.0                0.0   \n",
      "24      0.0    0.0  0.0  ...     0.0                0.0                0.0   \n",
      "25      0.0    0.0  0.0  ...     0.0                0.0                0.0   \n",
      "26      0.0    0.0  0.0  ...     0.0                0.0                0.0   \n",
      "27      0.0    0.0  0.0  ...     0.0                0.0                0.0   \n",
      "28      0.0    0.0  0.0  ...     0.0                0.0                0.0   \n",
      "29      0.0    0.0  0.0  ...     0.0                0.0                0.0   \n",
      "30      0.0    0.0  0.0  ...     0.0                0.0                0.0   \n",
      "31      0.0    0.0  0.0  ...     0.0                0.0                0.0   \n",
      "32      0.0    0.0  0.0  ...     0.0                0.0                0.0   \n",
      "33      0.0    0.0  0.0  ...     0.0                0.0                0.0   \n",
      "34      0.0    0.0  0.0  ...     0.0                0.0                0.0   \n",
      "35      0.0    0.0  0.0  ...     0.0                0.0                0.0   \n",
      "36      0.0    0.0  0.0  ...     0.0                0.0                0.0   \n",
      "37      0.0    0.0  0.0  ...     0.0                0.0                0.0   \n",
      "38      0.0    0.0  0.0  ...     0.0                0.0                0.0   \n",
      "39      0.0    0.0  0.0  ...     0.0                0.0                0.0   \n",
      "40      0.0    0.0  0.0  ...     0.0                0.0                0.0   \n",
      "41      0.0    0.0  0.0  ...     0.0                0.0                0.0   \n",
      "42      0.0    0.0  0.0  ...     0.0                0.0                0.0   \n",
      "43      0.0    0.0  0.0  ...     0.0                0.0                0.0   \n",
      "44      0.0    0.0  0.0  ...     0.0                0.0                0.0   \n",
      "45      0.0    0.0  0.0  ...     0.0                0.0                0.0   \n",
      "46      0.0    0.0  0.0  ...     0.0                0.0                0.0   \n",
      "47      0.0    0.0  0.0  ...     0.0                0.0                0.0   \n",
      "48      0.0    0.0  0.0  ...     0.0                0.0                0.0   \n",
      "49      0.0    0.0  0.0  ...     0.0                0.0                0.0   \n",
      "\n",
      "    zone  zone deal  zone plan  zone syria  zuckerberg  zuma  zuma ally  \n",
      "0    0.0        0.0        0.0         0.0         0.0   0.0        0.0  \n",
      "1    0.0        0.0        0.0         0.0         0.0   0.0        0.0  \n",
      "2    0.0        0.0        0.0         0.0         0.0   0.0        0.0  \n",
      "3    0.0        0.0        0.0         0.0         0.0   0.0        0.0  \n",
      "4    0.0        0.0        0.0         0.0         0.0   0.0        0.0  \n",
      "5    0.0        0.0        0.0         0.0         0.0   0.0        0.0  \n",
      "6    0.0        0.0        0.0         0.0         0.0   0.0        0.0  \n",
      "7    0.0        0.0        0.0         0.0         0.0   0.0        0.0  \n",
      "8    0.0        0.0        0.0         0.0         0.0   0.0        0.0  \n",
      "9    0.0        0.0        0.0         0.0         0.0   0.0        0.0  \n",
      "10   0.0        0.0        0.0         0.0         0.0   0.0        0.0  \n",
      "11   0.0        0.0        0.0         0.0         0.0   0.0        0.0  \n",
      "12   0.0        0.0        0.0         0.0         0.0   0.0        0.0  \n",
      "13   0.0        0.0        0.0         0.0         0.0   0.0        0.0  \n",
      "14   0.0        0.0        0.0         0.0         0.0   0.0        0.0  \n",
      "15   0.0        0.0        0.0         0.0         0.0   0.0        0.0  \n",
      "16   0.0        0.0        0.0         0.0         0.0   0.0        0.0  \n",
      "17   0.0        0.0        0.0         0.0         0.0   0.0        0.0  \n",
      "18   0.0        0.0        0.0         0.0         0.0   0.0        0.0  \n",
      "19   0.0        0.0        0.0         0.0         0.0   0.0        0.0  \n",
      "20   0.0        0.0        0.0         0.0         0.0   0.0        0.0  \n",
      "21   0.0        0.0        0.0         0.0         0.0   0.0        0.0  \n",
      "22   0.0        0.0        0.0         0.0         0.0   0.0        0.0  \n",
      "23   0.0        0.0        0.0         0.0         0.0   0.0        0.0  \n",
      "24   0.0        0.0        0.0         0.0         0.0   0.0        0.0  \n",
      "25   0.0        0.0        0.0         0.0         0.0   0.0        0.0  \n",
      "26   0.0        0.0        0.0         0.0         0.0   0.0        0.0  \n",
      "27   0.0        0.0        0.0         0.0         0.0   0.0        0.0  \n",
      "28   0.0        0.0        0.0         0.0         0.0   0.0        0.0  \n",
      "29   0.0        0.0        0.0         0.0         0.0   0.0        0.0  \n",
      "30   0.0        0.0        0.0         0.0         0.0   0.0        0.0  \n",
      "31   0.0        0.0        0.0         0.0         0.0   0.0        0.0  \n",
      "32   0.0        0.0        0.0         0.0         0.0   0.0        0.0  \n",
      "33   0.0        0.0        0.0         0.0         0.0   0.0        0.0  \n",
      "34   0.0        0.0        0.0         0.0         0.0   0.0        0.0  \n",
      "35   0.0        0.0        0.0         0.0         0.0   0.0        0.0  \n",
      "36   0.0        0.0        0.0         0.0         0.0   0.0        0.0  \n",
      "37   0.0        0.0        0.0         0.0         0.0   0.0        0.0  \n",
      "38   0.0        0.0        0.0         0.0         0.0   0.0        0.0  \n",
      "39   0.0        0.0        0.0         0.0         0.0   0.0        0.0  \n",
      "40   0.0        0.0        0.0         0.0         0.0   0.0        0.0  \n",
      "41   0.0        0.0        0.0         0.0         0.0   0.0        0.0  \n",
      "42   0.0        0.0        0.0         0.0         0.0   0.0        0.0  \n",
      "43   0.0        0.0        0.0         0.0         0.0   0.0        0.0  \n",
      "44   0.0        0.0        0.0         0.0         0.0   0.0        0.0  \n",
      "45   0.0        0.0        0.0         0.0         0.0   0.0        0.0  \n",
      "46   0.0        0.0        0.0         0.0         0.0   0.0        0.0  \n",
      "47   0.0        0.0        0.0         0.0         0.0   0.0        0.0  \n",
      "48   0.0        0.0        0.0         0.0         0.0   0.0        0.0  \n",
      "49   0.0        0.0        0.0         0.0         0.0   0.0        0.0  \n",
      "\n",
      "[50 rows x 10000 columns]\n"
     ]
    }
   ],
   "source": [
    "# Display the first few rows of the TF-IDF DataFrame\n",
    "print(tfidf_df_testing.head(50))"
   ]
  },
  {
   "cell_type": "code",
   "execution_count": 149,
   "metadata": {},
   "outputs": [],
   "source": [
    "X_testing = tfidf_df_testing  # Feature set\n",
    "y_testing = testing_data['label']  "
   ]
  },
  {
   "cell_type": "code",
   "execution_count": 150,
   "metadata": {},
   "outputs": [
    {
     "name": "stdout",
     "output_type": "stream",
     "text": [
      "       10  10 embarrass  10 minute  10 patrick  10 second  10 steal  10 trend  \\\n",
      "0     0.0           0.0        0.0         0.0        0.0       0.0       0.0   \n",
      "1     0.0           0.0        0.0         0.0        0.0       0.0       0.0   \n",
      "2     0.0           0.0        0.0         0.0        0.0       0.0       0.0   \n",
      "3     0.0           0.0        0.0         0.0        0.0       0.0       0.0   \n",
      "4     0.0           0.0        0.0         0.0        0.0       0.0       0.0   \n",
      "...   ...           ...        ...         ...        ...       ...       ...   \n",
      "9979  0.0           0.0        0.0         0.0        0.0       0.0       0.0   \n",
      "9980  0.0           0.0        0.0         0.0        0.0       0.0       0.0   \n",
      "9981  0.0           0.0        0.0         0.0        0.0       0.0       0.0   \n",
      "9982  0.0           0.0        0.0         0.0        0.0       0.0       0.0   \n",
      "9983  0.0           0.0        0.0         0.0        0.0       0.0       0.0   \n",
      "\n",
      "      10 year  10 yr  100  ...  zombie  zombie apocalypse  zombie disneyland  \\\n",
      "0         0.0    0.0  0.0  ...     0.0                0.0                0.0   \n",
      "1         0.0    0.0  0.0  ...     0.0                0.0                0.0   \n",
      "2         0.0    0.0  0.0  ...     0.0                0.0                0.0   \n",
      "3         0.0    0.0  0.0  ...     0.0                0.0                0.0   \n",
      "4         0.0    0.0  0.0  ...     0.0                0.0                0.0   \n",
      "...       ...    ...  ...  ...     ...                ...                ...   \n",
      "9979      0.0    0.0  0.0  ...     0.0                0.0                0.0   \n",
      "9980      0.0    0.0  0.0  ...     0.0                0.0                0.0   \n",
      "9981      0.0    0.0  0.0  ...     0.0                0.0                0.0   \n",
      "9982      0.0    0.0  0.0  ...     0.0                0.0                0.0   \n",
      "9983      0.0    0.0  0.0  ...     0.0                0.0                0.0   \n",
      "\n",
      "      zone  zone deal  zone plan  zone syria  zuckerberg  zuma  zuma ally  \n",
      "0      0.0        0.0        0.0         0.0         0.0   0.0        0.0  \n",
      "1      0.0        0.0        0.0         0.0         0.0   0.0        0.0  \n",
      "2      0.0        0.0        0.0         0.0         0.0   0.0        0.0  \n",
      "3      0.0        0.0        0.0         0.0         0.0   0.0        0.0  \n",
      "4      0.0        0.0        0.0         0.0         0.0   0.0        0.0  \n",
      "...    ...        ...        ...         ...         ...   ...        ...  \n",
      "9979   0.0        0.0        0.0         0.0         0.0   0.0        0.0  \n",
      "9980   0.0        0.0        0.0         0.0         0.0   0.0        0.0  \n",
      "9981   0.0        0.0        0.0         0.0         0.0   0.0        0.0  \n",
      "9982   0.0        0.0        0.0         0.0         0.0   0.0        0.0  \n",
      "9983   0.0        0.0        0.0         0.0         0.0   0.0        0.0  \n",
      "\n",
      "[9984 rows x 10000 columns]\n"
     ]
    }
   ],
   "source": [
    "print(X_testing)"
   ]
  },
  {
   "cell_type": "code",
   "execution_count": 151,
   "metadata": {},
   "outputs": [
    {
     "ename": "ValueError",
     "evalue": "The feature names should match those that were passed during fit.\nFeature names unseen at fit time:\n- 10 embarrass\n- 10 minute\n- 10 patrick\n- 10 second\n- 10 steal\n- ...\nFeature names seen at fit time, yet now missing:\n- 10 billion\n- 10 day\n- 10 million\n- 100 day\n- 100 million\n- ...\n",
     "output_type": "error",
     "traceback": [
      "\u001b[0;31m---------------------------------------------------------------------------\u001b[0m",
      "\u001b[0;31mValueError\u001b[0m                                Traceback (most recent call last)",
      "Cell \u001b[0;32mIn[151], line 2\u001b[0m\n\u001b[1;32m      1\u001b[0m \u001b[38;5;66;03m# Predict y\u001b[39;00m\n\u001b[0;32m----> 2\u001b[0m y_pred_lr_testing \u001b[38;5;241m=\u001b[39m log_reg\u001b[38;5;241m.\u001b[39mpredict(X_testing)\n",
      "File \u001b[0;32m/opt/anaconda3/lib/python3.12/site-packages/sklearn/linear_model/_base.py:382\u001b[0m, in \u001b[0;36mLinearClassifierMixin.predict\u001b[0;34m(self, X)\u001b[0m\n\u001b[1;32m    368\u001b[0m \u001b[38;5;250m\u001b[39m\u001b[38;5;124;03m\"\"\"\u001b[39;00m\n\u001b[1;32m    369\u001b[0m \u001b[38;5;124;03mPredict class labels for samples in X.\u001b[39;00m\n\u001b[1;32m    370\u001b[0m \n\u001b[0;32m   (...)\u001b[0m\n\u001b[1;32m    379\u001b[0m \u001b[38;5;124;03m    Vector containing the class labels for each sample.\u001b[39;00m\n\u001b[1;32m    380\u001b[0m \u001b[38;5;124;03m\"\"\"\u001b[39;00m\n\u001b[1;32m    381\u001b[0m xp, _ \u001b[38;5;241m=\u001b[39m get_namespace(X)\n\u001b[0;32m--> 382\u001b[0m scores \u001b[38;5;241m=\u001b[39m \u001b[38;5;28mself\u001b[39m\u001b[38;5;241m.\u001b[39mdecision_function(X)\n\u001b[1;32m    383\u001b[0m \u001b[38;5;28;01mif\u001b[39;00m \u001b[38;5;28mlen\u001b[39m(scores\u001b[38;5;241m.\u001b[39mshape) \u001b[38;5;241m==\u001b[39m \u001b[38;5;241m1\u001b[39m:\n\u001b[1;32m    384\u001b[0m     indices \u001b[38;5;241m=\u001b[39m xp\u001b[38;5;241m.\u001b[39mastype(scores \u001b[38;5;241m>\u001b[39m \u001b[38;5;241m0\u001b[39m, indexing_dtype(xp))\n",
      "File \u001b[0;32m/opt/anaconda3/lib/python3.12/site-packages/sklearn/linear_model/_base.py:363\u001b[0m, in \u001b[0;36mLinearClassifierMixin.decision_function\u001b[0;34m(self, X)\u001b[0m\n\u001b[1;32m    360\u001b[0m check_is_fitted(\u001b[38;5;28mself\u001b[39m)\n\u001b[1;32m    361\u001b[0m xp, _ \u001b[38;5;241m=\u001b[39m get_namespace(X)\n\u001b[0;32m--> 363\u001b[0m X \u001b[38;5;241m=\u001b[39m \u001b[38;5;28mself\u001b[39m\u001b[38;5;241m.\u001b[39m_validate_data(X, accept_sparse\u001b[38;5;241m=\u001b[39m\u001b[38;5;124m\"\u001b[39m\u001b[38;5;124mcsr\u001b[39m\u001b[38;5;124m\"\u001b[39m, reset\u001b[38;5;241m=\u001b[39m\u001b[38;5;28;01mFalse\u001b[39;00m)\n\u001b[1;32m    364\u001b[0m scores \u001b[38;5;241m=\u001b[39m safe_sparse_dot(X, \u001b[38;5;28mself\u001b[39m\u001b[38;5;241m.\u001b[39mcoef_\u001b[38;5;241m.\u001b[39mT, dense_output\u001b[38;5;241m=\u001b[39m\u001b[38;5;28;01mTrue\u001b[39;00m) \u001b[38;5;241m+\u001b[39m \u001b[38;5;28mself\u001b[39m\u001b[38;5;241m.\u001b[39mintercept_\n\u001b[1;32m    365\u001b[0m \u001b[38;5;28;01mreturn\u001b[39;00m xp\u001b[38;5;241m.\u001b[39mreshape(scores, (\u001b[38;5;241m-\u001b[39m\u001b[38;5;241m1\u001b[39m,)) \u001b[38;5;28;01mif\u001b[39;00m scores\u001b[38;5;241m.\u001b[39mshape[\u001b[38;5;241m1\u001b[39m] \u001b[38;5;241m==\u001b[39m \u001b[38;5;241m1\u001b[39m \u001b[38;5;28;01melse\u001b[39;00m scores\n",
      "File \u001b[0;32m/opt/anaconda3/lib/python3.12/site-packages/sklearn/base.py:608\u001b[0m, in \u001b[0;36mBaseEstimator._validate_data\u001b[0;34m(self, X, y, reset, validate_separately, cast_to_ndarray, **check_params)\u001b[0m\n\u001b[1;32m    537\u001b[0m \u001b[38;5;28;01mdef\u001b[39;00m \u001b[38;5;21m_validate_data\u001b[39m(\n\u001b[1;32m    538\u001b[0m     \u001b[38;5;28mself\u001b[39m,\n\u001b[1;32m    539\u001b[0m     X\u001b[38;5;241m=\u001b[39m\u001b[38;5;124m\"\u001b[39m\u001b[38;5;124mno_validation\u001b[39m\u001b[38;5;124m\"\u001b[39m,\n\u001b[0;32m   (...)\u001b[0m\n\u001b[1;32m    544\u001b[0m     \u001b[38;5;241m*\u001b[39m\u001b[38;5;241m*\u001b[39mcheck_params,\n\u001b[1;32m    545\u001b[0m ):\n\u001b[1;32m    546\u001b[0m \u001b[38;5;250m    \u001b[39m\u001b[38;5;124;03m\"\"\"Validate input data and set or check the `n_features_in_` attribute.\u001b[39;00m\n\u001b[1;32m    547\u001b[0m \n\u001b[1;32m    548\u001b[0m \u001b[38;5;124;03m    Parameters\u001b[39;00m\n\u001b[0;32m   (...)\u001b[0m\n\u001b[1;32m    606\u001b[0m \u001b[38;5;124;03m        validated.\u001b[39;00m\n\u001b[1;32m    607\u001b[0m \u001b[38;5;124;03m    \"\"\"\u001b[39;00m\n\u001b[0;32m--> 608\u001b[0m     \u001b[38;5;28mself\u001b[39m\u001b[38;5;241m.\u001b[39m_check_feature_names(X, reset\u001b[38;5;241m=\u001b[39mreset)\n\u001b[1;32m    610\u001b[0m     \u001b[38;5;28;01mif\u001b[39;00m y \u001b[38;5;129;01mis\u001b[39;00m \u001b[38;5;28;01mNone\u001b[39;00m \u001b[38;5;129;01mand\u001b[39;00m \u001b[38;5;28mself\u001b[39m\u001b[38;5;241m.\u001b[39m_get_tags()[\u001b[38;5;124m\"\u001b[39m\u001b[38;5;124mrequires_y\u001b[39m\u001b[38;5;124m\"\u001b[39m]:\n\u001b[1;32m    611\u001b[0m         \u001b[38;5;28;01mraise\u001b[39;00m \u001b[38;5;167;01mValueError\u001b[39;00m(\n\u001b[1;32m    612\u001b[0m             \u001b[38;5;124mf\u001b[39m\u001b[38;5;124m\"\u001b[39m\u001b[38;5;124mThis \u001b[39m\u001b[38;5;132;01m{\u001b[39;00m\u001b[38;5;28mself\u001b[39m\u001b[38;5;241m.\u001b[39m\u001b[38;5;18m__class__\u001b[39m\u001b[38;5;241m.\u001b[39m\u001b[38;5;18m__name__\u001b[39m\u001b[38;5;132;01m}\u001b[39;00m\u001b[38;5;124m estimator \u001b[39m\u001b[38;5;124m\"\u001b[39m\n\u001b[1;32m    613\u001b[0m             \u001b[38;5;124m\"\u001b[39m\u001b[38;5;124mrequires y to be passed, but the target y is None.\u001b[39m\u001b[38;5;124m\"\u001b[39m\n\u001b[1;32m    614\u001b[0m         )\n",
      "File \u001b[0;32m/opt/anaconda3/lib/python3.12/site-packages/sklearn/base.py:535\u001b[0m, in \u001b[0;36mBaseEstimator._check_feature_names\u001b[0;34m(self, X, reset)\u001b[0m\n\u001b[1;32m    530\u001b[0m \u001b[38;5;28;01mif\u001b[39;00m \u001b[38;5;129;01mnot\u001b[39;00m missing_names \u001b[38;5;129;01mand\u001b[39;00m \u001b[38;5;129;01mnot\u001b[39;00m unexpected_names:\n\u001b[1;32m    531\u001b[0m     message \u001b[38;5;241m+\u001b[39m\u001b[38;5;241m=\u001b[39m (\n\u001b[1;32m    532\u001b[0m         \u001b[38;5;124m\"\u001b[39m\u001b[38;5;124mFeature names must be in the same order as they were in fit.\u001b[39m\u001b[38;5;130;01m\\n\u001b[39;00m\u001b[38;5;124m\"\u001b[39m\n\u001b[1;32m    533\u001b[0m     )\n\u001b[0;32m--> 535\u001b[0m \u001b[38;5;28;01mraise\u001b[39;00m \u001b[38;5;167;01mValueError\u001b[39;00m(message)\n",
      "\u001b[0;31mValueError\u001b[0m: The feature names should match those that were passed during fit.\nFeature names unseen at fit time:\n- 10 embarrass\n- 10 minute\n- 10 patrick\n- 10 second\n- 10 steal\n- ...\nFeature names seen at fit time, yet now missing:\n- 10 billion\n- 10 day\n- 10 million\n- 100 day\n- 100 million\n- ...\n"
     ]
    }
   ],
   "source": [
    "# Predict y\n",
    "y_pred_lr_testing = log_reg.predict(X_testing)"
   ]
  }
 ],
 "metadata": {
  "kernelspec": {
   "display_name": "base",
   "language": "python",
   "name": "python3"
  },
  "language_info": {
   "codemirror_mode": {
    "name": "ipython",
    "version": 3
   },
   "file_extension": ".py",
   "mimetype": "text/x-python",
   "name": "python",
   "nbconvert_exporter": "python",
   "pygments_lexer": "ipython3",
   "version": "3.12.7"
  }
 },
 "nbformat": 4,
 "nbformat_minor": 2
}
